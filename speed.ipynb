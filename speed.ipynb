{
  "nbformat": 4,
  "nbformat_minor": 0,
  "metadata": {
    "colab": {
      "name": "speed.ipynb",
      "version": "0.3.2",
      "provenance": [],
      "collapsed_sections": [],
      "include_colab_link": true
    },
    "kernelspec": {
      "name": "python3",
      "display_name": "Python 3"
    }
  },
  "cells": [
    {
      "cell_type": "markdown",
      "metadata": {
        "id": "view-in-github",
        "colab_type": "text"
      },
      "source": [
        "<a href=\"https://colab.research.google.com/github/bsivavenu/Machine-Learning/blob/master/speed.ipynb\" target=\"_parent\"><img src=\"https://colab.research.google.com/assets/colab-badge.svg\" alt=\"Open In Colab\"/></a>"
      ]
    },
    {
      "metadata": {
        "id": "4ODrFj6N1q_y",
        "colab_type": "code",
        "colab": {}
      },
      "cell_type": "code",
      "source": [
        "import os\n",
        "import pandas as pd\n",
        "import numpy as np\n",
        "import matplotlib.pyplot as plt\n",
        "import seaborn as sns"
      ],
      "execution_count": 0,
      "outputs": []
    },
    {
      "metadata": {
        "id": "7JoTNFT-76xp",
        "colab_type": "code",
        "colab": {
          "base_uri": "https://localhost:8080/",
          "height": 35
        },
        "outputId": "bc65fd03-339b-416c-a8da-79b995d2c542"
      },
      "cell_type": "code",
      "source": [
        "os.getcwd()"
      ],
      "execution_count": 7,
      "outputs": [
        {
          "output_type": "execute_result",
          "data": {
            "text/plain": [
              "'/content'"
            ]
          },
          "metadata": {
            "tags": []
          },
          "execution_count": 7
        }
      ]
    },
    {
      "metadata": {
        "id": "DTEdgcDD2Til",
        "colab_type": "code",
        "colab": {}
      },
      "cell_type": "code",
      "source": [
        "data = pd.read_csv('Speed_dataset.csv')"
      ],
      "execution_count": 0,
      "outputs": []
    },
    {
      "metadata": {
        "id": "o0U6ulzd3xD3",
        "colab_type": "code",
        "outputId": "b97015ee-3cd1-40fc-95da-e2a92853f1ed",
        "colab": {
          "base_uri": "https://localhost:8080/",
          "height": 198
        }
      },
      "cell_type": "code",
      "source": [
        "data.head()"
      ],
      "execution_count": 9,
      "outputs": [
        {
          "output_type": "execute_result",
          "data": {
            "text/html": [
              "<div>\n",
              "<style scoped>\n",
              "    .dataframe tbody tr th:only-of-type {\n",
              "        vertical-align: middle;\n",
              "    }\n",
              "\n",
              "    .dataframe tbody tr th {\n",
              "        vertical-align: top;\n",
              "    }\n",
              "\n",
              "    .dataframe thead th {\n",
              "        text-align: right;\n",
              "    }\n",
              "</style>\n",
              "<table border=\"1\" class=\"dataframe\">\n",
              "  <thead>\n",
              "    <tr style=\"text-align: right;\">\n",
              "      <th></th>\n",
              "      <th>latitude</th>\n",
              "      <th>longitude</th>\n",
              "      <th>timestamp</th>\n",
              "      <th>speed_mph</th>\n",
              "      <th>speedlimit_mph</th>\n",
              "      <th>functionalClass</th>\n",
              "      <th>controlledAccess</th>\n",
              "      <th>isHighway</th>\n",
              "      <th>state</th>\n",
              "      <th>vehicle_id</th>\n",
              "      <th>driver_id</th>\n",
              "    </tr>\n",
              "  </thead>\n",
              "  <tbody>\n",
              "    <tr>\n",
              "      <th>0</th>\n",
              "      <td>34.640141</td>\n",
              "      <td>-77.938721</td>\n",
              "      <td>6/1/2015 0:04</td>\n",
              "      <td>64</td>\n",
              "      <td>70</td>\n",
              "      <td>2</td>\n",
              "      <td>Y</td>\n",
              "      <td>1</td>\n",
              "      <td>NC</td>\n",
              "      <td>1208979</td>\n",
              "      <td>5693</td>\n",
              "    </tr>\n",
              "    <tr>\n",
              "      <th>1</th>\n",
              "      <td>34.643730</td>\n",
              "      <td>-77.939400</td>\n",
              "      <td>6/1/2015 0:04</td>\n",
              "      <td>64</td>\n",
              "      <td>70</td>\n",
              "      <td>2</td>\n",
              "      <td>Y</td>\n",
              "      <td>1</td>\n",
              "      <td>NC</td>\n",
              "      <td>1208979</td>\n",
              "      <td>5693</td>\n",
              "    </tr>\n",
              "    <tr>\n",
              "      <th>2</th>\n",
              "      <td>34.551254</td>\n",
              "      <td>-78.784630</td>\n",
              "      <td>6/1/2015 0:04</td>\n",
              "      <td>1</td>\n",
              "      <td>55</td>\n",
              "      <td>4</td>\n",
              "      <td>N</td>\n",
              "      <td>1</td>\n",
              "      <td>NC</td>\n",
              "      <td>1262441</td>\n",
              "      <td>916461</td>\n",
              "    </tr>\n",
              "    <tr>\n",
              "      <th>3</th>\n",
              "      <td>35.613663</td>\n",
              "      <td>-78.470596</td>\n",
              "      <td>6/1/2015 0:06</td>\n",
              "      <td>62</td>\n",
              "      <td>70</td>\n",
              "      <td>2</td>\n",
              "      <td>Y</td>\n",
              "      <td>1</td>\n",
              "      <td>NC</td>\n",
              "      <td>1280223</td>\n",
              "      <td>1145487</td>\n",
              "    </tr>\n",
              "    <tr>\n",
              "      <th>4</th>\n",
              "      <td>35.614525</td>\n",
              "      <td>-78.474670</td>\n",
              "      <td>6/1/2015 0:06</td>\n",
              "      <td>61</td>\n",
              "      <td>70</td>\n",
              "      <td>2</td>\n",
              "      <td>Y</td>\n",
              "      <td>1</td>\n",
              "      <td>NC</td>\n",
              "      <td>1280223</td>\n",
              "      <td>1145487</td>\n",
              "    </tr>\n",
              "  </tbody>\n",
              "</table>\n",
              "</div>"
            ],
            "text/plain": [
              "    latitude  longitude      timestamp  speed_mph  speedlimit_mph  \\\n",
              "0  34.640141 -77.938721  6/1/2015 0:04         64              70   \n",
              "1  34.643730 -77.939400  6/1/2015 0:04         64              70   \n",
              "2  34.551254 -78.784630  6/1/2015 0:04          1              55   \n",
              "3  35.613663 -78.470596  6/1/2015 0:06         62              70   \n",
              "4  35.614525 -78.474670  6/1/2015 0:06         61              70   \n",
              "\n",
              "   functionalClass controlledAccess  isHighway state  vehicle_id  driver_id  \n",
              "0                2                Y          1    NC     1208979       5693  \n",
              "1                2                Y          1    NC     1208979       5693  \n",
              "2                4                N          1    NC     1262441     916461  \n",
              "3                2                Y          1    NC     1280223    1145487  \n",
              "4                2                Y          1    NC     1280223    1145487  "
            ]
          },
          "metadata": {
            "tags": []
          },
          "execution_count": 9
        }
      ]
    },
    {
      "metadata": {
        "id": "mM9Wq4Pz4OQc",
        "colab_type": "code",
        "outputId": "5c361104-d510-4a7e-869a-278aaf964f08",
        "colab": {
          "base_uri": "https://localhost:8080/",
          "height": 308
        }
      },
      "cell_type": "code",
      "source": [
        "data.info()"
      ],
      "execution_count": 10,
      "outputs": [
        {
          "output_type": "stream",
          "text": [
            "<class 'pandas.core.frame.DataFrame'>\n",
            "RangeIndex: 343628 entries, 0 to 343627\n",
            "Data columns (total 11 columns):\n",
            "latitude            343628 non-null float64\n",
            "longitude           343628 non-null float64\n",
            "timestamp           343628 non-null object\n",
            "speed_mph           343628 non-null int64\n",
            "speedlimit_mph      343628 non-null int64\n",
            "functionalClass     343628 non-null int64\n",
            "controlledAccess    343628 non-null object\n",
            "isHighway           343628 non-null int64\n",
            "state               343628 non-null object\n",
            "vehicle_id          343628 non-null int64\n",
            "driver_id           343628 non-null int64\n",
            "dtypes: float64(2), int64(6), object(3)\n",
            "memory usage: 28.8+ MB\n"
          ],
          "name": "stdout"
        }
      ]
    },
    {
      "metadata": {
        "id": "jPoWFeYWAKX2",
        "colab_type": "code",
        "outputId": "f7516c9a-4fee-47fe-a1f3-3b10877fdee3",
        "colab": {
          "base_uri": "https://localhost:8080/",
          "height": 288
        }
      },
      "cell_type": "code",
      "source": [
        "data.describe()"
      ],
      "execution_count": 11,
      "outputs": [
        {
          "output_type": "execute_result",
          "data": {
            "text/html": [
              "<div>\n",
              "<style scoped>\n",
              "    .dataframe tbody tr th:only-of-type {\n",
              "        vertical-align: middle;\n",
              "    }\n",
              "\n",
              "    .dataframe tbody tr th {\n",
              "        vertical-align: top;\n",
              "    }\n",
              "\n",
              "    .dataframe thead th {\n",
              "        text-align: right;\n",
              "    }\n",
              "</style>\n",
              "<table border=\"1\" class=\"dataframe\">\n",
              "  <thead>\n",
              "    <tr style=\"text-align: right;\">\n",
              "      <th></th>\n",
              "      <th>latitude</th>\n",
              "      <th>longitude</th>\n",
              "      <th>speed_mph</th>\n",
              "      <th>speedlimit_mph</th>\n",
              "      <th>functionalClass</th>\n",
              "      <th>isHighway</th>\n",
              "      <th>vehicle_id</th>\n",
              "      <th>driver_id</th>\n",
              "    </tr>\n",
              "  </thead>\n",
              "  <tbody>\n",
              "    <tr>\n",
              "      <th>count</th>\n",
              "      <td>343628.000000</td>\n",
              "      <td>343628.000000</td>\n",
              "      <td>343628.000000</td>\n",
              "      <td>343628.000000</td>\n",
              "      <td>343628.000000</td>\n",
              "      <td>343628.000000</td>\n",
              "      <td>3.436280e+05</td>\n",
              "      <td>3.436280e+05</td>\n",
              "    </tr>\n",
              "    <tr>\n",
              "      <th>mean</th>\n",
              "      <td>35.504742</td>\n",
              "      <td>-78.495537</td>\n",
              "      <td>38.176129</td>\n",
              "      <td>54.442391</td>\n",
              "      <td>3.040398</td>\n",
              "      <td>0.683640</td>\n",
              "      <td>8.401167e+05</td>\n",
              "      <td>5.650171e+05</td>\n",
              "    </tr>\n",
              "    <tr>\n",
              "      <th>std</th>\n",
              "      <td>0.794903</td>\n",
              "      <td>0.910243</td>\n",
              "      <td>24.945979</td>\n",
              "      <td>10.014904</td>\n",
              "      <td>1.368529</td>\n",
              "      <td>0.465056</td>\n",
              "      <td>5.027187e+05</td>\n",
              "      <td>5.193492e+05</td>\n",
              "    </tr>\n",
              "    <tr>\n",
              "      <th>min</th>\n",
              "      <td>33.318760</td>\n",
              "      <td>-84.402771</td>\n",
              "      <td>1.000000</td>\n",
              "      <td>20.000000</td>\n",
              "      <td>0.000000</td>\n",
              "      <td>0.000000</td>\n",
              "      <td>1.429000e+03</td>\n",
              "      <td>0.000000e+00</td>\n",
              "    </tr>\n",
              "    <tr>\n",
              "      <th>25%</th>\n",
              "      <td>35.005116</td>\n",
              "      <td>-78.926933</td>\n",
              "      <td>10.000000</td>\n",
              "      <td>45.000000</td>\n",
              "      <td>2.000000</td>\n",
              "      <td>0.000000</td>\n",
              "      <td>5.350240e+05</td>\n",
              "      <td>3.871900e+04</td>\n",
              "    </tr>\n",
              "    <tr>\n",
              "      <th>50%</th>\n",
              "      <td>35.531018</td>\n",
              "      <td>-78.458893</td>\n",
              "      <td>44.000000</td>\n",
              "      <td>55.000000</td>\n",
              "      <td>3.000000</td>\n",
              "      <td>1.000000</td>\n",
              "      <td>6.179890e+05</td>\n",
              "      <td>4.662930e+05</td>\n",
              "    </tr>\n",
              "    <tr>\n",
              "      <th>75%</th>\n",
              "      <td>35.794942</td>\n",
              "      <td>-78.122360</td>\n",
              "      <td>64.000000</td>\n",
              "      <td>65.000000</td>\n",
              "      <td>4.000000</td>\n",
              "      <td>1.000000</td>\n",
              "      <td>1.207151e+06</td>\n",
              "      <td>1.144565e+06</td>\n",
              "    </tr>\n",
              "    <tr>\n",
              "      <th>max</th>\n",
              "      <td>38.641785</td>\n",
              "      <td>-75.599670</td>\n",
              "      <td>79.000000</td>\n",
              "      <td>70.000000</td>\n",
              "      <td>5.000000</td>\n",
              "      <td>1.000000</td>\n",
              "      <td>1.889852e+06</td>\n",
              "      <td>1.393454e+06</td>\n",
              "    </tr>\n",
              "  </tbody>\n",
              "</table>\n",
              "</div>"
            ],
            "text/plain": [
              "            latitude      longitude      speed_mph  speedlimit_mph  \\\n",
              "count  343628.000000  343628.000000  343628.000000   343628.000000   \n",
              "mean       35.504742     -78.495537      38.176129       54.442391   \n",
              "std         0.794903       0.910243      24.945979       10.014904   \n",
              "min        33.318760     -84.402771       1.000000       20.000000   \n",
              "25%        35.005116     -78.926933      10.000000       45.000000   \n",
              "50%        35.531018     -78.458893      44.000000       55.000000   \n",
              "75%        35.794942     -78.122360      64.000000       65.000000   \n",
              "max        38.641785     -75.599670      79.000000       70.000000   \n",
              "\n",
              "       functionalClass      isHighway    vehicle_id     driver_id  \n",
              "count    343628.000000  343628.000000  3.436280e+05  3.436280e+05  \n",
              "mean          3.040398       0.683640  8.401167e+05  5.650171e+05  \n",
              "std           1.368529       0.465056  5.027187e+05  5.193492e+05  \n",
              "min           0.000000       0.000000  1.429000e+03  0.000000e+00  \n",
              "25%           2.000000       0.000000  5.350240e+05  3.871900e+04  \n",
              "50%           3.000000       1.000000  6.179890e+05  4.662930e+05  \n",
              "75%           4.000000       1.000000  1.207151e+06  1.144565e+06  \n",
              "max           5.000000       1.000000  1.889852e+06  1.393454e+06  "
            ]
          },
          "metadata": {
            "tags": []
          },
          "execution_count": 11
        }
      ]
    },
    {
      "metadata": {
        "id": "dplKvnruANcO",
        "colab_type": "code",
        "outputId": "ef11c0b8-903f-4926-abf3-8f334e54aa62",
        "colab": {
          "base_uri": "https://localhost:8080/",
          "height": 235
        }
      },
      "cell_type": "code",
      "source": [
        "data.isnull().sum()"
      ],
      "execution_count": 12,
      "outputs": [
        {
          "output_type": "execute_result",
          "data": {
            "text/plain": [
              "latitude            0\n",
              "longitude           0\n",
              "timestamp           0\n",
              "speed_mph           0\n",
              "speedlimit_mph      0\n",
              "functionalClass     0\n",
              "controlledAccess    0\n",
              "isHighway           0\n",
              "state               0\n",
              "vehicle_id          0\n",
              "driver_id           0\n",
              "dtype: int64"
            ]
          },
          "metadata": {
            "tags": []
          },
          "execution_count": 12
        }
      ]
    },
    {
      "metadata": {
        "id": "WHRJtV_BAaAM",
        "colab_type": "code",
        "outputId": "76a715de-4f9d-4d79-d995-71b9eaf31e59",
        "colab": {
          "base_uri": "https://localhost:8080/",
          "height": 181
        }
      },
      "cell_type": "code",
      "source": [
        "unike_vehicles = data['vehicle_id'].unique()\n",
        "unike_vehicles"
      ],
      "execution_count": 14,
      "outputs": [
        {
          "output_type": "execute_result",
          "data": {
            "text/plain": [
              "array([1208979, 1262441, 1280223,  550280,  534766,  567435,  550764,\n",
              "          1444,  550766, 1280225,   88250,    1462,  530030, 1207169,\n",
              "       1207151,  535412,  550768,  535024, 1434981, 1171979, 1173169,\n",
              "        118302, 1191293,  567437,  550272, 1173291,  564509,   90560,\n",
              "       1171973,   88697,  528890,  528616, 1351613, 1202269,  617989,\n",
              "        567067,  118303,    1463, 1190543, 1208431,    1441, 1191485,\n",
              "        607681, 1191353, 1329841,  565771, 1828709, 1827931, 1828847,\n",
              "          1429, 1830679, 1842323, 1843499, 1845975, 1846883,    1435,\n",
              "       1849075, 1850001, 1840735, 1853977, 1851601, 1827821, 1889852])"
            ]
          },
          "metadata": {
            "tags": []
          },
          "execution_count": 14
        }
      ]
    },
    {
      "metadata": {
        "id": "97acnYtKBKW0",
        "colab_type": "code",
        "outputId": "3a0264b8-9e43-4a0f-8176-06db9217e6f1",
        "colab": {
          "base_uri": "https://localhost:8080/",
          "height": 35
        }
      },
      "cell_type": "code",
      "source": [
        "len(unike)"
      ],
      "execution_count": 15,
      "outputs": [
        {
          "output_type": "execute_result",
          "data": {
            "text/plain": [
              "63"
            ]
          },
          "metadata": {
            "tags": []
          },
          "execution_count": 15
        }
      ]
    },
    {
      "metadata": {
        "id": "xCNYpzE7A6SV",
        "colab_type": "code",
        "outputId": "26920e99-605b-4bd2-9fa7-ec12e4966b10",
        "colab": {
          "base_uri": "https://localhost:8080/",
          "height": 235
        }
      },
      "cell_type": "code",
      "source": [
        "unike_drivers = data['driver_id'].unique()\n",
        "unike_drivers"
      ],
      "execution_count": 16,
      "outputs": [
        {
          "output_type": "execute_result",
          "data": {
            "text/plain": [
              "array([   5693,  916461, 1145487,  500201,       0,    4276,  342321,\n",
              "        466293,    5687,  991329,  213257,    4278, 1159791,   38719,\n",
              "         55563,   54397, 1065377,  524221,  714485,    4284,   39251,\n",
              "         41136,  812033,   65743, 1091309,  732669,    2132,    8459,\n",
              "          6534,    4287, 1200561,  884137, 1159793,  882873,   40451,\n",
              "         21436,  322085, 1082201,  183927,  406943, 1200557,   40450,\n",
              "       1163791,  997291, 1163537, 1149035,  992205,    4282,  995637,\n",
              "         14675,   41355,   11327,   12426,   85991, 1144565,  862543,\n",
              "        814935,  509431, 1222453, 1235549, 1246883, 1256913, 1250535,\n",
              "       1265441, 1272718, 1288064,  295715, 1297397, 1297409, 1297407,\n",
              "       1297401, 1297403, 1305549, 1297399,   11914, 1297405, 1312663,\n",
              "       1296079, 1309177, 1370081, 1381750, 1308317, 1393454])"
            ]
          },
          "metadata": {
            "tags": []
          },
          "execution_count": 16
        }
      ]
    },
    {
      "metadata": {
        "id": "fTIvlzZ6BeH9",
        "colab_type": "code",
        "outputId": "49bc96c3-315e-42d0-fa82-c9883f3c49ed",
        "colab": {
          "base_uri": "https://localhost:8080/",
          "height": 35
        }
      },
      "cell_type": "code",
      "source": [
        "len(unike_drivers)"
      ],
      "execution_count": 17,
      "outputs": [
        {
          "output_type": "execute_result",
          "data": {
            "text/plain": [
              "83"
            ]
          },
          "metadata": {
            "tags": []
          },
          "execution_count": 17
        }
      ]
    },
    {
      "metadata": {
        "id": "cu2W5VT_BfzR",
        "colab_type": "code",
        "outputId": "b546ebbc-afa0-435a-b884-9c27684d05a5",
        "colab": {
          "base_uri": "https://localhost:8080/",
          "height": 35
        }
      },
      "cell_type": "code",
      "source": [
        "len(data['driver_id'].duplicated())"
      ],
      "execution_count": 18,
      "outputs": [
        {
          "output_type": "execute_result",
          "data": {
            "text/plain": [
              "343628"
            ]
          },
          "metadata": {
            "tags": []
          },
          "execution_count": 18
        }
      ]
    },
    {
      "metadata": {
        "id": "T0JsH67q-tab",
        "colab_type": "code",
        "colab": {
          "base_uri": "https://localhost:8080/",
          "height": 90
        },
        "outputId": "56459b79-d76b-429e-b2b1-d9487d3f40fd"
      },
      "cell_type": "code",
      "source": [
        "data.columns"
      ],
      "execution_count": 22,
      "outputs": [
        {
          "output_type": "execute_result",
          "data": {
            "text/plain": [
              "Index(['latitude', 'longitude', 'timestamp', 'speed_mph', 'speedlimit_mph',\n",
              "       'functionalClass', 'controlledAccess', 'isHighway', 'state',\n",
              "       'vehicle_id', 'driver_id'],\n",
              "      dtype='object')"
            ]
          },
          "metadata": {
            "tags": []
          },
          "execution_count": 22
        }
      ]
    },
    {
      "metadata": {
        "id": "tmaBojIw-_3s",
        "colab_type": "code",
        "colab": {
          "base_uri": "https://localhost:8080/",
          "height": 108
        },
        "outputId": "78e207ee-a428-44bc-9b8c-3895b6eb81d1"
      },
      "cell_type": "code",
      "source": [
        "data.state.value_counts()"
      ],
      "execution_count": 24,
      "outputs": [
        {
          "output_type": "execute_result",
          "data": {
            "text/plain": [
              "NC    298510\n",
              "VA     31980\n",
              "SC     12759\n",
              "GA       379\n",
              "Name: state, dtype: int64"
            ]
          },
          "metadata": {
            "tags": []
          },
          "execution_count": 24
        }
      ]
    },
    {
      "metadata": {
        "id": "2NBZax419CEJ",
        "colab_type": "code",
        "colab": {
          "base_uri": "https://localhost:8080/",
          "height": 181
        },
        "outputId": "a76a9800-fd1c-4781-cb18-5d057c79c180"
      },
      "cell_type": "code",
      "source": [
        "data['speed_mph'].describe()"
      ],
      "execution_count": 29,
      "outputs": [
        {
          "output_type": "execute_result",
          "data": {
            "text/plain": [
              "count    343628.000000\n",
              "mean         38.176129\n",
              "std          24.945979\n",
              "min           1.000000\n",
              "25%          10.000000\n",
              "50%          44.000000\n",
              "75%          64.000000\n",
              "max          79.000000\n",
              "Name: speed_mph, dtype: float64"
            ]
          },
          "metadata": {
            "tags": []
          },
          "execution_count": 29
        }
      ]
    },
    {
      "metadata": {
        "id": "rf8cIkxLBpo1",
        "colab_type": "code",
        "outputId": "f7a229b9-5951-4528-a5b2-7a146d54e028",
        "colab": {
          "base_uri": "https://localhost:8080/",
          "height": 210
        }
      },
      "cell_type": "code",
      "source": [
        "data[data['speed_mph']>=79]"
      ],
      "execution_count": 30,
      "outputs": [
        {
          "output_type": "execute_result",
          "data": {
            "text/html": [
              "<div>\n",
              "<style scoped>\n",
              "    .dataframe tbody tr th:only-of-type {\n",
              "        vertical-align: middle;\n",
              "    }\n",
              "\n",
              "    .dataframe tbody tr th {\n",
              "        vertical-align: top;\n",
              "    }\n",
              "\n",
              "    .dataframe thead th {\n",
              "        text-align: right;\n",
              "    }\n",
              "</style>\n",
              "<table border=\"1\" class=\"dataframe\">\n",
              "  <thead>\n",
              "    <tr style=\"text-align: right;\">\n",
              "      <th></th>\n",
              "      <th>latitude</th>\n",
              "      <th>longitude</th>\n",
              "      <th>timestamp</th>\n",
              "      <th>speed_mph</th>\n",
              "      <th>speedlimit_mph</th>\n",
              "      <th>functionalClass</th>\n",
              "      <th>controlledAccess</th>\n",
              "      <th>isHighway</th>\n",
              "      <th>state</th>\n",
              "      <th>vehicle_id</th>\n",
              "      <th>driver_id</th>\n",
              "    </tr>\n",
              "  </thead>\n",
              "  <tbody>\n",
              "    <tr>\n",
              "      <th>243320</th>\n",
              "      <td>37.144806</td>\n",
              "      <td>-80.390457</td>\n",
              "      <td>10/11/2015 20:39</td>\n",
              "      <td>79</td>\n",
              "      <td>65</td>\n",
              "      <td>2</td>\n",
              "      <td>Y</td>\n",
              "      <td>1</td>\n",
              "      <td>VA</td>\n",
              "      <td>118303</td>\n",
              "      <td>0</td>\n",
              "    </tr>\n",
              "    <tr>\n",
              "      <th>267415</th>\n",
              "      <td>37.192581</td>\n",
              "      <td>-80.274391</td>\n",
              "      <td>10/22/2015 16:38</td>\n",
              "      <td>79</td>\n",
              "      <td>65</td>\n",
              "      <td>1</td>\n",
              "      <td>Y</td>\n",
              "      <td>1</td>\n",
              "      <td>VA</td>\n",
              "      <td>118303</td>\n",
              "      <td>0</td>\n",
              "    </tr>\n",
              "    <tr>\n",
              "      <th>325927</th>\n",
              "      <td>37.703476</td>\n",
              "      <td>-79.462105</td>\n",
              "      <td>11/20/2015 15:46</td>\n",
              "      <td>79</td>\n",
              "      <td>70</td>\n",
              "      <td>1</td>\n",
              "      <td>Y</td>\n",
              "      <td>1</td>\n",
              "      <td>VA</td>\n",
              "      <td>118303</td>\n",
              "      <td>0</td>\n",
              "    </tr>\n",
              "  </tbody>\n",
              "</table>\n",
              "</div>"
            ],
            "text/plain": [
              "         latitude  longitude         timestamp  speed_mph  speedlimit_mph  \\\n",
              "243320  37.144806 -80.390457  10/11/2015 20:39         79              65   \n",
              "267415  37.192581 -80.274391  10/22/2015 16:38         79              65   \n",
              "325927  37.703476 -79.462105  11/20/2015 15:46         79              70   \n",
              "\n",
              "        functionalClass controlledAccess  isHighway state  vehicle_id  \\\n",
              "243320                2                Y          1    VA      118303   \n",
              "267415                1                Y          1    VA      118303   \n",
              "325927                1                Y          1    VA      118303   \n",
              "\n",
              "        driver_id  \n",
              "243320          0  \n",
              "267415          0  \n",
              "325927          0  "
            ]
          },
          "metadata": {
            "tags": []
          },
          "execution_count": 30
        }
      ]
    },
    {
      "metadata": {
        "id": "IA5-SxzuCSmK",
        "colab_type": "code",
        "outputId": "4beb0701-9cb8-4e17-836f-32262713f63b",
        "colab": {
          "base_uri": "https://localhost:8080/",
          "height": 145
        }
      },
      "cell_type": "code",
      "source": [
        "data.functionalClass.value_counts()"
      ],
      "execution_count": 31,
      "outputs": [
        {
          "output_type": "execute_result",
          "data": {
            "text/plain": [
              "4    83983\n",
              "2    76635\n",
              "3    62147\n",
              "5    62068\n",
              "1    58783\n",
              "0       12\n",
              "Name: functionalClass, dtype: int64"
            ]
          },
          "metadata": {
            "tags": []
          },
          "execution_count": 31
        }
      ]
    },
    {
      "metadata": {
        "id": "z-KKj0AVC-dN",
        "colab_type": "code",
        "outputId": "2cb45d70-919b-4d5f-8051-32e5af4b41cd",
        "colab": {
          "base_uri": "https://localhost:8080/",
          "height": 108
        }
      },
      "cell_type": "code",
      "source": [
        "data[data['isHighway']==0].state.value_counts()"
      ],
      "execution_count": 38,
      "outputs": [
        {
          "output_type": "execute_result",
          "data": {
            "text/plain": [
              "NC    98987\n",
              "VA     6459\n",
              "SC     3238\n",
              "GA       26\n",
              "Name: state, dtype: int64"
            ]
          },
          "metadata": {
            "tags": []
          },
          "execution_count": 38
        }
      ]
    },
    {
      "metadata": {
        "id": "MYtzK1OWDG8o",
        "colab_type": "code",
        "colab": {
          "base_uri": "https://localhost:8080/",
          "height": 108
        },
        "outputId": "8b91a3aa-4ccd-44bc-bfda-58dbd23267ca"
      },
      "cell_type": "code",
      "source": [
        "data[data['isHighway']==1].state.value_counts()"
      ],
      "execution_count": 39,
      "outputs": [
        {
          "output_type": "execute_result",
          "data": {
            "text/plain": [
              "NC    199523\n",
              "VA     25521\n",
              "SC      9521\n",
              "GA       353\n",
              "Name: state, dtype: int64"
            ]
          },
          "metadata": {
            "tags": []
          },
          "execution_count": 39
        }
      ]
    },
    {
      "metadata": {
        "id": "uMSWUbg9DPSp",
        "colab_type": "code",
        "colab": {}
      },
      "cell_type": "code",
      "source": [
        ""
      ],
      "execution_count": 0,
      "outputs": []
    }
  ]
}