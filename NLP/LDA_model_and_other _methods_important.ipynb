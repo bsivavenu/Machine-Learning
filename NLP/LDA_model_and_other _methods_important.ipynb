{
 "cells": [
  {
   "cell_type": "code",
   "execution_count": 1,
   "metadata": {},
   "outputs": [
    {
     "name": "stderr",
     "output_type": "stream",
     "text": [
      "C:\\Users\\HP\\Anaconda3\\lib\\site-packages\\gensim\\utils.py:1167: UserWarning: detected Windows; aliasing chunkize to chunkize_serial\n",
      "  warnings.warn(\"detected Windows; aliasing chunkize to chunkize_serial\")\n"
     ]
    }
   ],
   "source": [
    "import pandas as pd\n",
    "import gensim"
   ]
  },
  {
   "cell_type": "code",
   "execution_count": 2,
   "metadata": {
    "collapsed": true
   },
   "outputs": [
    {
     "data": {
      "text/plain": [
       "\"Everyday there are pregnant mothers who abuse drugs and alcohol totally ignoring the living, growing person inside them.  Then, when these children are born, they are usually born with a drug addiction or birth defects which sometimes leads to death.  One thing's for sure, these children's lives are greatly complexed before they even reach the light of day.  Which leads to my position that the rights of the child should be extended to the unborn.  A mother should not have the right to use drugs or drink alcohol while she is pregnant, it is unfair for the child not to even have a chance for a normal life.\\n\\n\\tIf a mother beat her baby and was reported to the child welfare board they would be thrown in jail without a second thought, but just because a child is not yet born doesn't that mean that a mother can do anything she wants to it.  Take a child who has been born, then goes through the pain of having an abusive parent.  If the parents are exposed to the authorities they will go to jail and lose the rights to the child, and with proper counseling and therapy the child will live a normal life.  Yet, if the child is unborn, the mother can do whatever she would like, even if it means harming the baby and the authorities can do nothing.  When the baby is born, the child might have irreparable brain damage or some physical defect and would not be able to live a normal life, for the rest of it's life.  The abuse that the unborn child goes through is the same as if it was born but the severity is much greater, and nothing can be done.  To me, this is child abuse of the worst kind.  An unborn child is getting abused with drugs, alcohol, or whatever the mother may be ingesting, and the child is unable to defend itself.  If the child was born it could call someone for help, but an unborn child cannot speak and therefore needs someone to speak for it in case of any danger that might come to it.\\n\\n\\n\\tOur unborn children should have the same rights as any living person.  In our society we give rights to any living creature, human or not human.  Is it right that we give more rights to animals than we do our own unborn?  I figure that unborn children are not far off from animals.  Animals are living creatures who grow, eat, sleep and cannot communicate with human beings, and unborn babies are living beings who also grow, eat, sleep and cannot communicate with us.  If we can give rights to animals who are not even our own species, why can't we give rights to our own unborn children.  We initially gave rights to animals on the basis that they were helpless and were unable to speak their minds, yet, unborn babies are in the exact same boat, and we still overlook them.\\n\\n\\n\\tI believe that if we don't give rights to abused children before they are born they will have to live a life of great pain after they are born, a life that we could have prevented.  Usually, if the parents abuse a child or has a drug/alcohol problem, the child will be taken away from the mother and placed into foster care until adopted or the mother is rehabilitated.  But, if the child is abused while still in the mothers womb, then it might have physical or mental defects and it won't be so easy for the child to get adopted and/or the mother might not want the child back.  A child should not be denied a chance to live a normal life just because it's parents are not responsible enough to have a child.  These children should be protected against any wrong doing on the mother's part, and have a chance to a normal life.\\n\\n\\n\\tIt is sad but true, but in our society the mentally and physically handicapped are not accepted and even ignored by the common person.  I don't think it is right to bring a person who is going to be handicapped, by what their mother consumes during the time of her pregnancy, into a world such as this if we can do something about it.  To be handicapped means to be totally dependent on whoever would be willing to take the time to take care of you, for the rest of your life.  By making laws that will protect the right of the unborn children, who are incapable of communicating with us, we can protect them from harm until they are born so that they at least have a chance to a normal life.   If we can give rights to an animal that will most likely not have any effect on anyone's life, why can't we give rights to an unborn child who will have an influence on many people thoughout his or her life.  Obviously there will still be many mothers who will not be caught using drugs while pregnant, but if we could save just one child from a life of total dependency and misery, then it would be worth while.\""
      ]
     },
     "execution_count": 2,
     "metadata": {},
     "output_type": "execute_result"
    }
   ],
   "source": [
    "data = open('c:/Users/HP/Desktop/abortion.txt').read()\n",
    "data"
   ]
  },
  {
   "cell_type": "code",
   "execution_count": 10,
   "metadata": {
    "collapsed": true
   },
   "outputs": [],
   "source": [
    "from nltk.corpus import stopwords \n",
    "from nltk.stem.wordnet import WordNetLemmatizer\n",
    "import string\n",
    "stop = set(stopwords.words('english'))\n",
    "exclude = set(string.punctuation) \n",
    "lemma = WordNetLemmatizer()\n",
    "def clean(doc):\n",
    "    stop_free = \" \".join([i for i in doc.lower().split() if i not in stop])\n",
    "    punc_free = ''.join(ch for ch in stop_free if ch not in exclude)\n",
    "    normalized = \" \".join(lemma.lemmatize(word) for word in punc_free.split())\n",
    "    return normalized\n",
    "\n",
    "doc_clean = [clean(data).split()]        "
   ]
  },
  {
   "cell_type": "code",
   "execution_count": 11,
   "metadata": {
    "collapsed": true
   },
   "outputs": [
    {
     "name": "stdout",
     "output_type": "stream",
     "text": [
      "[['everyday', 'pregnant', 'mother', 'abuse', 'drug', 'alcohol', 'totally', 'ignoring', 'living', 'growing', 'person', 'inside', 'them', 'then', 'child', 'born', 'usually', 'born', 'drug', 'addiction', 'birth', 'defect', 'sometimes', 'lead', 'death', 'one', 'thing', 'sure', 'childrens', 'life', 'greatly', 'complexed', 'even', 'reach', 'light', 'day', 'lead', 'position', 'right', 'child', 'extended', 'unborn', 'mother', 'right', 'use', 'drug', 'drink', 'alcohol', 'pregnant', 'unfair', 'child', 'even', 'chance', 'normal', 'life', 'mother', 'beat', 'baby', 'reported', 'child', 'welfare', 'board', 'would', 'thrown', 'jail', 'without', 'second', 'thought', 'child', 'yet', 'born', 'mean', 'mother', 'anything', 'want', 'it', 'take', 'child', 'born', 'go', 'pain', 'abusive', 'parent', 'parent', 'exposed', 'authority', 'go', 'jail', 'lose', 'right', 'child', 'proper', 'counseling', 'therapy', 'child', 'live', 'normal', 'life', 'yet', 'child', 'unborn', 'mother', 'whatever', 'would', 'like', 'even', 'mean', 'harming', 'baby', 'authority', 'nothing', 'baby', 'born', 'child', 'might', 'irreparable', 'brain', 'damage', 'physical', 'defect', 'would', 'able', 'live', 'normal', 'life', 'rest', 'life', 'abuse', 'unborn', 'child', 'go', 'born', 'severity', 'much', 'greater', 'nothing', 'done', 'me', 'child', 'abuse', 'worst', 'kind', 'unborn', 'child', 'getting', 'abused', 'drug', 'alcohol', 'whatever', 'mother', 'may', 'ingesting', 'child', 'unable', 'defend', 'itself', 'child', 'born', 'could', 'call', 'someone', 'help', 'unborn', 'child', 'cannot', 'speak', 'therefore', 'need', 'someone', 'speak', 'case', 'danger', 'might', 'come', 'it', 'unborn', 'child', 'right', 'living', 'person', 'society', 'give', 'right', 'living', 'creature', 'human', 'human', 'right', 'give', 'right', 'animal', 'unborn', 'figure', 'unborn', 'child', 'far', 'animal', 'animal', 'living', 'creature', 'grow', 'eat', 'sleep', 'cannot', 'communicate', 'human', 'being', 'unborn', 'baby', 'living', 'being', 'also', 'grow', 'eat', 'sleep', 'cannot', 'communicate', 'u', 'give', 'right', 'animal', 'even', 'specie', 'cant', 'give', 'right', 'unborn', 'child', 'initially', 'gave', 'right', 'animal', 'basis', 'helpless', 'unable', 'speak', 'mind', 'yet', 'unborn', 'baby', 'exact', 'boat', 'still', 'overlook', 'them', 'believe', 'give', 'right', 'abused', 'child', 'born', 'live', 'life', 'great', 'pain', 'born', 'life', 'could', 'prevented', 'usually', 'parent', 'abuse', 'child', 'drugalcohol', 'problem', 'child', 'taken', 'away', 'mother', 'placed', 'foster', 'care', 'adopted', 'mother', 'rehabilitated', 'but', 'child', 'abused', 'still', 'mother', 'womb', 'might', 'physical', 'mental', 'defect', 'easy', 'child', 'get', 'adopted', 'andor', 'mother', 'might', 'want', 'child', 'back', 'child', 'denied', 'chance', 'live', 'normal', 'life', 'parent', 'responsible', 'enough', 'child', 'child', 'protected', 'wrong', 'mother', 'part', 'chance', 'normal', 'life', 'sad', 'true', 'society', 'mentally', 'physically', 'handicapped', 'accepted', 'even', 'ignored', 'common', 'person', 'think', 'right', 'bring', 'person', 'going', 'handicapped', 'mother', 'consumes', 'time', 'pregnancy', 'world', 'something', 'it', 'handicapped', 'mean', 'totally', 'dependent', 'whoever', 'would', 'willing', 'take', 'time', 'take', 'care', 'you', 'rest', 'life', 'making', 'law', 'protect', 'right', 'unborn', 'child', 'incapable', 'communicating', 'u', 'protect', 'harm', 'born', 'least', 'chance', 'normal', 'life', 'give', 'right', 'animal', 'likely', 'effect', 'anyones', 'life', 'cant', 'give', 'right', 'unborn', 'child', 'influence', 'many', 'people', 'thoughout', 'life', 'obviously', 'still', 'many', 'mother', 'caught', 'using', 'drug', 'pregnant', 'could', 'save', 'one', 'child', 'life', 'total', 'dependency', 'misery', 'would', 'worth', 'while']]\n"
     ]
    }
   ],
   "source": [
    "print(doc_clean)"
   ]
  },
  {
   "cell_type": "markdown",
   "metadata": {},
   "source": [
    "## creating dictionary and doctermmatrix with gensim"
   ]
  },
  {
   "cell_type": "code",
   "execution_count": 53,
   "metadata": {
    "collapsed": true
   },
   "outputs": [],
   "source": [
    "from gensim import corpora\n",
    "\n",
    "dictionary = corpora.Dictionary(doc_clean)\n",
    "doctermmatrix = [dictionary.doc2bow(doc) for doc in doc_clean]"
   ]
  },
  {
   "cell_type": "code",
   "execution_count": 54,
   "metadata": {},
   "outputs": [
    {
     "name": "stdout",
     "output_type": "stream",
     "text": [
      "[[(0, 1), (1, 4), (2, 3), (3, 1), (4, 1), (5, 1), (6, 2), (7, 3), (8, 1), (9, 1), (10, 6), (11, 1), (12, 1), (13, 2), (14, 1), (15, 5), (16, 1), (17, 1), (18, 1), (19, 2), (20, 1), (21, 1), (22, 1), (23, 1), (24, 10), (25, 1), (26, 1), (27, 1), (28, 1), (29, 3), (30, 2), (31, 2), (32, 1), (33, 1), (34, 4), (35, 31), (36, 1), (37, 1), (38, 1), (39, 2), (40, 1), (41, 1), (42, 1), (43, 3), (44, 1), (45, 2), (46, 1), (47, 1), (48, 1), (49, 1), (50, 3), (51, 1), (52, 1), (53, 1), (54, 1), (55, 1), (56, 1), (57, 5), (58, 1), (59, 1), (60, 2), (61, 1), (62, 1), (63, 5), (64, 1), (65, 1), (66, 1), (67, 1), (68, 1), (69, 1), (70, 1), (71, 1), (72, 1), (73, 1), (74, 7), (75, 3), (76, 1), (77, 1), (78, 1), (79, 1), (80, 2), (81, 1), (82, 3), (83, 1), (84, 1), (85, 1), (86, 1), (87, 3), (88, 1), (89, 1), (90, 1), (91, 1), (92, 1), (93, 1), (94, 1), (95, 1), (96, 3), (97, 1), (98, 2), (99, 1), (100, 1), (101, 2), (102, 1), (103, 14), (104, 1), (105, 1), (106, 1), (107, 4), (108, 5), (109, 1), (110, 1), (111, 2), (112, 1), (113, 1), (114, 3), (115, 1), (116, 1), (117, 4), (118, 1), (119, 1), (120, 13), (121, 1), (122, 1), (123, 6), (124, 2), (125, 1), (126, 2), (127, 1), (128, 2), (129, 4), (130, 1), (131, 1), (132, 4), (133, 2), (134, 1), (135, 1), (136, 1), (137, 1), (138, 3), (139, 1), (140, 1), (141, 1), (142, 2), (143, 1), (144, 1), (145, 1), (146, 1), (147, 1), (148, 2), (149, 15), (150, 1), (151, 1), (152, 1), (153, 1), (154, 2), (155, 2), (156, 2), (157, 1), (158, 1), (159, 3), (160, 1), (161, 3), (162, 1), (163, 3), (164, 1), (165, 2), (166, 1), (167, 1), (168, 1), (169, 1), (170, 1), (171, 1), (172, 1), (173, 1), (174, 2), (175, 1), (176, 2), (177, 1), (178, 2), (179, 2), (180, 13), (181, 1), (182, 1), (183, 1), (184, 2), (185, 2), (186, 1), (187, 2), (188, 1), (189, 1), (190, 1), (191, 1), (192, 1), (193, 1), (194, 1), (195, 1), (196, 5), (197, 1), (198, 3), (199, 1)]]\n"
     ]
    }
   ],
   "source": [
    "print(doctermmatrix)"
   ]
  },
  {
   "cell_type": "markdown",
   "metadata": {},
   "source": [
    "### Defining lda model"
   ]
  },
  {
   "cell_type": "code",
   "execution_count": 14,
   "metadata": {
    "collapsed": true
   },
   "outputs": [],
   "source": [
    "lda = gensim.models.ldamodel.LdaModel"
   ]
  },
  {
   "cell_type": "code",
   "execution_count": 15,
   "metadata": {
    "collapsed": true
   },
   "outputs": [],
   "source": [
    "ldamodel = lda(doctermmatrix,num_topics=10,id2word=dictionary,passes=50)\n"
   ]
  },
  {
   "cell_type": "code",
   "execution_count": 16,
   "metadata": {
    "collapsed": true
   },
   "outputs": [
    {
     "data": {
      "text/plain": [
       "[(0, '0.074*\"child\" + 0.036*\"right\" + 0.033*\"life\" + 0.031*\"mother\"'),\n",
       " (1, '0.005*\"child\" + 0.005*\"unborn\" + 0.005*\"life\" + 0.005*\"right\"'),\n",
       " (2, '0.005*\"child\" + 0.005*\"right\" + 0.005*\"life\" + 0.005*\"unborn\"'),\n",
       " (3, '0.005*\"child\" + 0.005*\"life\" + 0.005*\"right\" + 0.005*\"mother\"'),\n",
       " (4, '0.005*\"child\" + 0.005*\"unborn\" + 0.005*\"mother\" + 0.005*\"right\"'),\n",
       " (5, '0.005*\"child\" + 0.005*\"right\" + 0.005*\"mother\" + 0.005*\"unborn\"'),\n",
       " (6, '0.005*\"child\" + 0.005*\"right\" + 0.005*\"life\" + 0.005*\"unborn\"'),\n",
       " (7, '0.005*\"child\" + 0.005*\"life\" + 0.005*\"right\" + 0.005*\"unborn\"'),\n",
       " (8, '0.005*\"child\" + 0.005*\"mother\" + 0.005*\"life\" + 0.005*\"right\"'),\n",
       " (9, '0.005*\"child\" + 0.005*\"right\" + 0.005*\"life\" + 0.005*\"mother\"')]"
      ]
     },
     "execution_count": 16,
     "metadata": {},
     "output_type": "execute_result"
    }
   ],
   "source": [
    "ldamodel.print_topics(num_topics=10,num_words=4)"
   ]
  },
  {
   "cell_type": "code",
   "execution_count": 17,
   "metadata": {
    "collapsed": true
   },
   "outputs": [
    {
     "name": "stdout",
     "output_type": "stream",
     "text": [
      "['Everyday', 'pregnant', 'mothers', 'abuse', 'drugs', 'alcohol', 'totally', 'ignoring', 'living', 'growing', 'person', 'inside', 'Then', 'children', 'born', 'usually', 'born', 'drug', 'addiction', 'birth', 'defects', 'sometimes', 'leads', 'death', 'One', 'thing', \"'s\", 'sure', 'children', \"'s\", 'lives', 'greatly', 'complexed', 'even', 'reach', 'light', 'day', 'Which', 'leads', 'position', 'rights', 'child', 'extended', 'unborn', 'A', 'mother', 'right', 'use', 'drugs', 'drink', 'alcohol', 'pregnant', 'unfair', 'child', 'even', 'chance', 'normal', 'life', 'If', 'mother', 'beat', 'baby', 'reported', 'child', 'welfare', 'board', 'would', 'thrown', 'jail', 'without', 'second', 'thought', 'child', 'yet', 'born', \"n't\", 'mean', 'mother', 'anything', 'wants', 'Take', 'child', 'born', 'goes', 'pain', 'abusive', 'parent', 'If', 'parents', 'exposed', 'authorities', 'go', 'jail', 'lose', 'rights', 'child', 'proper', 'counseling', 'therapy', 'child', 'live', 'normal', 'life', 'Yet', 'child', 'unborn', 'mother', 'whatever', 'would', 'like', 'even', 'means', 'harming', 'baby', 'authorities', 'nothing', 'When', 'baby', 'born', 'child', 'might', 'irreparable', 'brain', 'damage', 'physical', 'defect', 'would', 'able', 'live', 'normal', 'life', 'rest', \"'s\", 'life', 'The', 'abuse', 'unborn', 'child', 'goes', 'born', 'severity', 'much', 'greater', 'nothing', 'done', 'To', 'child', 'abuse', 'worst', 'kind', 'An', 'unborn', 'child', 'getting', 'abused', 'drugs', 'alcohol', 'whatever', 'mother', 'may', 'ingesting', 'child', 'unable', 'defend', 'If', 'child', 'born', 'could', 'call', 'someone', 'help', 'unborn', 'child', 'speak', 'therefore', 'needs', 'someone', 'speak', 'case', 'danger', 'might', 'come', 'Our', 'unborn', 'children', 'rights', 'living', 'person', 'In', 'society', 'give', 'rights', 'living', 'creature', 'human', 'human', 'Is', 'right', 'give', 'rights', 'animals', 'unborn', 'I', 'figure', 'unborn', 'children', 'far', 'animals', 'Animals', 'living', 'creatures', 'grow', 'eat', 'sleep', 'communicate', 'human', 'beings', 'unborn', 'babies', 'living', 'beings', 'also', 'grow', 'eat', 'sleep', 'communicate', 'us', 'If', 'give', 'rights', 'animals', 'even', 'species', 'ca', \"n't\", 'give', 'rights', 'unborn', 'children', 'We', 'initially', 'gave', 'rights', 'animals', 'basis', 'helpless', 'unable', 'speak', 'minds', 'yet', 'unborn', 'babies', 'exact', 'boat', 'still', 'overlook', 'I', 'believe', \"n't\", 'give', 'rights', 'abused', 'children', 'born', 'live', 'life', 'great', 'pain', 'born', 'life', 'could', 'prevented', 'Usually', 'parents', 'abuse', 'child', 'drug/alcohol', 'problem', 'child', 'taken', 'away', 'mother', 'placed', 'foster', 'care', 'adopted', 'mother', 'rehabilitated', 'But', 'child', 'abused', 'still', 'mothers', 'womb', 'might', 'physical', 'mental', 'defects', 'wo', \"n't\", 'easy', 'child', 'get', 'adopted', 'and/or', 'mother', 'might', 'want', 'child', 'back', 'A', 'child', 'denied', 'chance', 'live', 'normal', 'life', \"'s\", 'parents', 'responsible', 'enough', 'child', 'These', 'children', 'protected', 'wrong', 'mother', \"'s\", 'part', 'chance', 'normal', 'life', 'It', 'sad', 'true', 'society', 'mentally', 'physically', 'handicapped', 'accepted', 'even', 'ignored', 'common', 'person', 'I', \"n't\", 'think', 'right', 'bring', 'person', 'going', 'handicapped', 'mother', 'consumes', 'time', 'pregnancy', 'world', 'something', 'To', 'handicapped', 'means', 'totally', 'dependent', 'whoever', 'would', 'willing', 'take', 'time', 'take', 'care', 'rest', 'life', 'By', 'making', 'laws', 'protect', 'right', 'unborn', 'children', 'incapable', 'communicating', 'us', 'protect', 'harm', 'born', 'least', 'chance', 'normal', 'life', 'If', 'give', 'rights', 'animal', 'likely', 'effect', 'anyone', \"'s\", 'life', 'ca', \"n't\", 'give', 'rights', 'unborn', 'child', 'influence', 'many', 'people', 'thoughout', 'life', 'Obviously', 'still', 'many', 'mothers', 'caught', 'using', 'drugs', 'pregnant', 'could', 'save', 'one', 'child', 'life', 'total', 'dependency', 'misery', 'would', 'worth']\n"
     ]
    }
   ],
   "source": [
    "# data\n",
    "from nltk.tokenize import word_tokenize\n",
    "from nltk.corpus import stopwords\n",
    "words = word_tokenize(data)\n",
    "words = [word for word in words if word not in stop]\n",
    "words1 = [word for word in words if word not in exclude]\n",
    "print(words1)"
   ]
  },
  {
   "cell_type": "code",
   "execution_count": 55,
   "metadata": {},
   "outputs": [
    {
     "data": {
      "text/plain": [
       "<gensim.models.word2vec.Word2Vec at 0x15584f28>"
      ]
     },
     "execution_count": 55,
     "metadata": {},
     "output_type": "execute_result"
    }
   ],
   "source": [
    "import gensim\n",
    "wmodel = gensim.models.Word2Vec(words1,min_count=1)\n",
    "wmodel"
   ]
  },
  {
   "cell_type": "code",
   "execution_count": null,
   "metadata": {},
   "outputs": [],
   "source": []
  },
  {
   "cell_type": "code",
   "execution_count": 58,
   "metadata": {},
   "outputs": [
    {
     "data": {
      "text/plain": [
       "['E',\n",
       " 'v',\n",
       " 'e',\n",
       " 'r',\n",
       " 'y',\n",
       " 'd',\n",
       " 'a',\n",
       " 'p',\n",
       " 'g',\n",
       " 'n',\n",
       " 't',\n",
       " 'm',\n",
       " 'o',\n",
       " 'h',\n",
       " 's',\n",
       " 'b',\n",
       " 'u',\n",
       " 'l',\n",
       " 'c',\n",
       " 'i',\n",
       " 'w',\n",
       " 'T',\n",
       " 'f',\n",
       " 'O',\n",
       " \"'\",\n",
       " 'x',\n",
       " 'W',\n",
       " 'A',\n",
       " 'k',\n",
       " 'I',\n",
       " 'j',\n",
       " 'Y',\n",
       " 'U',\n",
       " '/',\n",
       " 'B']"
      ]
     },
     "execution_count": 58,
     "metadata": {},
     "output_type": "execute_result"
    }
   ],
   "source": [
    "wrds = list(wmodel.wv.vocab)\n",
    "wrds"
   ]
  },
  {
   "cell_type": "code",
   "execution_count": 59,
   "metadata": {
    "collapsed": true
   },
   "outputs": [
    {
     "name": "stderr",
     "output_type": "stream",
     "text": [
      "C:\\Users\\HP\\Anaconda3\\lib\\site-packages\\ipykernel_launcher.py:1: DeprecationWarning: Call to deprecated `__getitem__` (Method will be removed in 4.0.0, use self.wv.__getitem__() instead).\n",
      "  \"\"\"Entry point for launching an IPython kernel.\n"
     ]
    },
    {
     "data": {
      "text/plain": [
       "array([  5.18129906e-03,  -9.85598005e-03,  -2.82080116e-04,\n",
       "        -1.89406611e-03,   1.70203298e-03,   5.20598283e-03,\n",
       "        -3.79600351e-07,   2.08560494e-03,   4.42802301e-03,\n",
       "        -3.07035516e-03,   3.05774133e-03,   6.35872735e-03,\n",
       "        -2.96353875e-03,  -7.77889043e-03,   1.86138623e-03,\n",
       "        -3.99966259e-03,   6.87984939e-05,   1.04382017e-03,\n",
       "         2.22881581e-03,   2.48620636e-03,  -9.88315325e-04,\n",
       "         3.64664663e-03,  -5.08044614e-03,   1.33964198e-03,\n",
       "        -6.90714689e-03,  -1.81526528e-03,   5.91137353e-03,\n",
       "         3.05970572e-03,   4.46072780e-03,  -4.40608338e-03,\n",
       "        -3.05492338e-03,  -2.25647655e-03,   5.28429495e-03,\n",
       "        -6.88265776e-03,  -7.18053803e-03,   7.01041240e-03,\n",
       "        -7.93571642e-04,  -4.75390814e-03,   4.18652827e-03,\n",
       "        -7.40622345e-04,  -5.17476397e-03,   1.01418654e-03,\n",
       "         4.00483841e-03,  -2.95502017e-03,  -2.56859465e-03,\n",
       "        -3.44684976e-03,   2.77977134e-03,   4.82336385e-03,\n",
       "        -3.59778851e-03,  -2.65672663e-03,  -3.28782061e-03,\n",
       "         1.21661986e-03,  -2.66852928e-03,   6.78522931e-03,\n",
       "         5.22113114e-04,  -1.51606312e-03,   1.18183647e-03,\n",
       "        -5.16366260e-03,   5.87252481e-03,  -2.70825508e-03,\n",
       "         8.82673310e-04,  -2.45961174e-03,  -2.42916611e-03,\n",
       "        -2.08242168e-03,   1.45929947e-03,  -3.48842470e-03,\n",
       "        -2.62972736e-03,  -8.77313223e-03,   6.38218306e-04,\n",
       "        -4.66941530e-03,   2.13658786e-03,   1.20531803e-03,\n",
       "         2.97322567e-03,   8.12130456e-05,   2.44688056e-03,\n",
       "        -5.00807364e-04,  -4.70457738e-03,  -1.08566659e-03,\n",
       "         9.72432725e-04,   4.85359831e-03,   6.38698274e-03,\n",
       "         5.10911131e-03,  -1.35116847e-04,   7.29133433e-04,\n",
       "        -2.43902672e-03,  -1.52502977e-03,   3.86361196e-03,\n",
       "        -1.98748172e-03,  -5.65396063e-03,  -3.80513840e-03,\n",
       "         3.02566751e-03,   6.68798434e-03,   1.84384058e-03,\n",
       "         2.81380001e-03,   5.92058012e-03,   2.70303385e-03,\n",
       "         5.03890822e-03,   5.12310630e-03,  -2.52342294e-03,\n",
       "        -2.31620716e-03], dtype=float32)"
      ]
     },
     "execution_count": 59,
     "metadata": {},
     "output_type": "execute_result"
    }
   ],
   "source": [
    "wmodel['e']"
   ]
  },
  {
   "cell_type": "code",
   "execution_count": 21,
   "metadata": {
    "collapsed": true
   },
   "outputs": [
    {
     "name": "stdout",
     "output_type": "stream",
     "text": [
      "['Everyday', 'there', 'are', 'pregnant', 'mothers', 'who', 'abuse', 'drugs', 'and', 'alcohol', 'totally', 'ignoring', 'the', 'living,', 'growing', 'person', 'inside', 'them.', 'Then,', 'when', 'these', 'children', 'are', 'born,', 'they', 'are', 'usually', 'born', 'with', 'a', 'drug', 'addiction', 'or', 'birth', 'defects', 'which', 'sometimes', 'leads', 'to', 'death.', 'One', \"thing's\", 'for', 'sure,', 'these', \"children's\", 'lives', 'are', 'greatly', 'complexed', 'before', 'they', 'even', 'reach', 'the', 'light', 'of', 'day.', 'Which', 'leads', 'to', 'my', 'position', 'that', 'the', 'rights', 'of', 'the', 'child', 'should', 'be', 'extended', 'to', 'the', 'unborn.', 'A', 'mother', 'should', 'not', 'have', 'the', 'right', 'to', 'use', 'drugs', 'or', 'drink', 'alcohol', 'while', 'she', 'is', 'pregnant,', 'it', 'is', 'unfair', 'for', 'the', 'child', 'not', 'to', 'even', 'have', 'a', 'chance', 'for', 'a', 'normal', 'life.', 'If', 'a', 'mother', 'beat', 'her', 'baby', 'and', 'was', 'reported', 'to', 'the', 'child', 'welfare', 'board', 'they', 'would', 'be', 'thrown', 'in', 'jail', 'without', 'a', 'second', 'thought,', 'but', 'just', 'because', 'a', 'child', 'is', 'not', 'yet', 'born', \"doesn't\", 'that', 'mean', 'that', 'a', 'mother', 'can', 'do', 'anything', 'she', 'wants', 'to', 'it.', 'Take', 'a', 'child', 'who', 'has', 'been', 'born,', 'then', 'goes', 'through', 'the', 'pain', 'of', 'having', 'an', 'abusive', 'parent.', 'If', 'the', 'parents', 'are', 'exposed', 'to', 'the', 'authorities', 'they', 'will', 'go', 'to', 'jail', 'and', 'lose', 'the', 'rights', 'to', 'the', 'child,', 'and', 'with', 'proper', 'counseling', 'and', 'therapy', 'the', 'child', 'will', 'live', 'a', 'normal', 'life.', 'Yet,', 'if', 'the', 'child', 'is', 'unborn,', 'the', 'mother', 'can', 'do', 'whatever', 'she', 'would', 'like,', 'even', 'if', 'it', 'means', 'harming', 'the', 'baby', 'and', 'the', 'authorities', 'can', 'do', 'nothing.', 'When', 'the', 'baby', 'is', 'born,', 'the', 'child', 'might', 'have', 'irreparable', 'brain', 'damage', 'or', 'some', 'physical', 'defect', 'and', 'would', 'not', 'be', 'able', 'to', 'live', 'a', 'normal', 'life,', 'for', 'the', 'rest', 'of', \"it's\", 'life.', 'The', 'abuse', 'that', 'the', 'unborn', 'child', 'goes', 'through', 'is', 'the', 'same', 'as', 'if', 'it', 'was', 'born', 'but', 'the', 'severity', 'is', 'much', 'greater,', 'and', 'nothing', 'can', 'be', 'done.', 'To', 'me,', 'this', 'is', 'child', 'abuse', 'of', 'the', 'worst', 'kind.', 'An', 'unborn', 'child', 'is', 'getting', 'abused', 'with', 'drugs,', 'alcohol,', 'or', 'whatever', 'the', 'mother', 'may', 'be', 'ingesting,', 'and', 'the', 'child', 'is', 'unable', 'to', 'defend', 'itself.', 'If', 'the', 'child', 'was', 'born', 'it', 'could', 'call', 'someone', 'for', 'help,', 'but', 'an', 'unborn', 'child', 'cannot', 'speak', 'and', 'therefore', 'needs', 'someone', 'to', 'speak', 'for', 'it', 'in', 'case', 'of', 'any', 'danger', 'that', 'might', 'come', 'to', 'it.', 'Our', 'unborn', 'children', 'should', 'have', 'the', 'same', 'rights', 'as', 'any', 'living', 'person.', 'In', 'our', 'society', 'we', 'give', 'rights', 'to', 'any', 'living', 'creature,', 'human', 'or', 'not', 'human.', 'Is', 'it', 'right', 'that', 'we', 'give', 'more', 'rights', 'to', 'animals', 'than', 'we', 'do', 'our', 'own', 'unborn?', 'I', 'figure', 'that', 'unborn', 'children', 'are', 'not', 'far', 'off', 'from', 'animals.', 'Animals', 'are', 'living', 'creatures', 'who', 'grow,', 'eat,', 'sleep', 'and', 'cannot', 'communicate', 'with', 'human', 'beings,', 'and', 'unborn', 'babies', 'are', 'living', 'beings', 'who', 'also', 'grow,', 'eat,', 'sleep', 'and', 'cannot', 'communicate', 'with', 'us.', 'If', 'we', 'can', 'give', 'rights', 'to', 'animals', 'who', 'are', 'not', 'even', 'our', 'own', 'species,', 'why', \"can't\", 'we', 'give', 'rights', 'to', 'our', 'own', 'unborn', 'children.', 'We', 'initially', 'gave', 'rights', 'to', 'animals', 'on', 'the', 'basis', 'that', 'they', 'were', 'helpless', 'and', 'were', 'unable', 'to', 'speak', 'their', 'minds,', 'yet,', 'unborn', 'babies', 'are', 'in', 'the', 'exact', 'same', 'boat,', 'and', 'we', 'still', 'overlook', 'them.', 'I', 'believe', 'that', 'if', 'we', \"don't\", 'give', 'rights', 'to', 'abused', 'children', 'before', 'they', 'are', 'born', 'they', 'will', 'have', 'to', 'live', 'a', 'life', 'of', 'great', 'pain', 'after', 'they', 'are', 'born,', 'a', 'life', 'that', 'we', 'could', 'have', 'prevented.', 'Usually,', 'if', 'the', 'parents', 'abuse', 'a', 'child', 'or', 'has', 'a', 'drug/alcohol', 'problem,', 'the', 'child', 'will', 'be', 'taken', 'away', 'from', 'the', 'mother', 'and', 'placed', 'into', 'foster', 'care', 'until', 'adopted', 'or', 'the', 'mother', 'is', 'rehabilitated.', 'But,', 'if', 'the', 'child', 'is', 'abused', 'while', 'still', 'in', 'the', 'mothers', 'womb,', 'then', 'it', 'might', 'have', 'physical', 'or', 'mental', 'defects', 'and', 'it', \"won't\", 'be', 'so', 'easy', 'for', 'the', 'child', 'to', 'get', 'adopted', 'and/or', 'the', 'mother', 'might', 'not', 'want', 'the', 'child', 'back.', 'A', 'child', 'should', 'not', 'be', 'denied', 'a', 'chance', 'to', 'live', 'a', 'normal', 'life', 'just', 'because', \"it's\", 'parents', 'are', 'not', 'responsible', 'enough', 'to', 'have', 'a', 'child.', 'These', 'children', 'should', 'be', 'protected', 'against', 'any', 'wrong', 'doing', 'on', 'the', \"mother's\", 'part,', 'and', 'have', 'a', 'chance', 'to', 'a', 'normal', 'life.', 'It', 'is', 'sad', 'but', 'true,', 'but', 'in', 'our', 'society', 'the', 'mentally', 'and', 'physically', 'handicapped', 'are', 'not', 'accepted', 'and', 'even', 'ignored', 'by', 'the', 'common', 'person.', 'I', \"don't\", 'think', 'it', 'is', 'right', 'to', 'bring', 'a', 'person', 'who', 'is', 'going', 'to', 'be', 'handicapped,', 'by', 'what', 'their', 'mother', 'consumes', 'during', 'the', 'time', 'of', 'her', 'pregnancy,', 'into', 'a', 'world', 'such', 'as', 'this', 'if', 'we', 'can', 'do', 'something', 'about', 'it.', 'To', 'be', 'handicapped', 'means', 'to', 'be', 'totally', 'dependent', 'on', 'whoever', 'would', 'be', 'willing', 'to', 'take', 'the', 'time', 'to', 'take', 'care', 'of', 'you,', 'for', 'the', 'rest', 'of', 'your', 'life.', 'By', 'making', 'laws', 'that', 'will', 'protect', 'the', 'right', 'of', 'the', 'unborn', 'children,', 'who', 'are', 'incapable', 'of', 'communicating', 'with', 'us,', 'we', 'can', 'protect', 'them', 'from', 'harm', 'until', 'they', 'are', 'born', 'so', 'that', 'they', 'at', 'least', 'have', 'a', 'chance', 'to', 'a', 'normal', 'life.', 'If', 'we', 'can', 'give', 'rights', 'to', 'an', 'animal', 'that', 'will', 'most', 'likely', 'not', 'have', 'any', 'effect', 'on', \"anyone's\", 'life,', 'why', \"can't\", 'we', 'give', 'rights', 'to', 'an', 'unborn', 'child', 'who', 'will', 'have', 'an', 'influence', 'on', 'many', 'people', 'thoughout', 'his', 'or', 'her', 'life.', 'Obviously', 'there', 'will', 'still', 'be', 'many', 'mothers', 'who', 'will', 'not', 'be', 'caught', 'using', 'drugs', 'while', 'pregnant,', 'but', 'if', 'we', 'could', 'save', 'just', 'one', 'child', 'from', 'a', 'life', 'of', 'total', 'dependency', 'and', 'misery,', 'then', 'it', 'would', 'be', 'worth', 'while.']\n"
     ]
    }
   ],
   "source": [
    "file = open('c:/Users/HP/Desktop/abortion.txt')\n",
    "text = file.read()\n",
    "tokens = text.split()\n",
    "print(tokens)"
   ]
  },
  {
   "cell_type": "code",
   "execution_count": 22,
   "metadata": {
    "collapsed": true
   },
   "outputs": [
    {
     "data": {
      "text/plain": [
       "['Everyday there are pregnant mothers who abuse drugs and alcohol totally ignoring the living, growing person inside them.',\n",
       " 'Then, when these children are born, they are usually born with a drug addiction or birth defects which sometimes leads to death.',\n",
       " \"One thing's for sure, these children's lives are greatly complexed before they even reach the light of day.\",\n",
       " 'Which leads to my position that the rights of the child should be extended to the unborn.',\n",
       " 'A mother should not have the right to use drugs or drink alcohol while she is pregnant, it is unfair for the child not to even have a chance for a normal life.',\n",
       " \"If a mother beat her baby and was reported to the child welfare board they would be thrown in jail without a second thought, but just because a child is not yet born doesn't that mean that a mother can do anything she wants to it.\",\n",
       " 'Take a child who has been born, then goes through the pain of having an abusive parent.',\n",
       " 'If the parents are exposed to the authorities they will go to jail and lose the rights to the child, and with proper counseling and therapy the child will live a normal life.',\n",
       " 'Yet, if the child is unborn, the mother can do whatever she would like, even if it means harming the baby and the authorities can do nothing.',\n",
       " \"When the baby is born, the child might have irreparable brain damage or some physical defect and would not be able to live a normal life, for the rest of it's life.\",\n",
       " 'The abuse that the unborn child goes through is the same as if it was born but the severity is much greater, and nothing can be done.',\n",
       " 'To me, this is child abuse of the worst kind.',\n",
       " 'An unborn child is getting abused with drugs, alcohol, or whatever the mother may be ingesting, and the child is unable to defend itself.',\n",
       " 'If the child was born it could call someone for help, but an unborn child cannot speak and therefore needs someone to speak for it in case of any danger that might come to it.',\n",
       " 'Our unborn children should have the same rights as any living person.',\n",
       " 'In our society we give rights to any living creature, human or not human.',\n",
       " 'Is it right that we give more rights to animals than we do our own unborn?',\n",
       " 'I figure that unborn children are not far off from animals.',\n",
       " 'Animals are living creatures who grow, eat, sleep and cannot communicate with human beings, and unborn babies are living beings who also grow, eat, sleep and cannot communicate with us.',\n",
       " \"If we can give rights to animals who are not even our own species, why can't we give rights to our own unborn children.\",\n",
       " 'We initially gave rights to animals on the basis that they were helpless and were unable to speak their minds, yet, unborn babies are in the exact same boat, and we still overlook them.',\n",
       " \"I believe that if we don't give rights to abused children before they are born they will have to live a life of great pain after they are born, a life that we could have prevented.\",\n",
       " 'Usually, if the parents abuse a child or has a drug/alcohol problem, the child will be taken away from the mother and placed into foster care until adopted or the mother is rehabilitated.',\n",
       " \"But, if the child is abused while still in the mothers womb, then it might have physical or mental defects and it won't be so easy for the child to get adopted and/or the mother might not want the child back.\",\n",
       " \"A child should not be denied a chance to live a normal life just because it's parents are not responsible enough to have a child.\",\n",
       " \"These children should be protected against any wrong doing on the mother's part, and have a chance to a normal life.\",\n",
       " 'It is sad but true, but in our society the mentally and physically handicapped are not accepted and even ignored by the common person.',\n",
       " \"I don't think it is right to bring a person who is going to be handicapped, by what their mother consumes during the time of her pregnancy, into a world such as this if we can do something about it.\",\n",
       " 'To be handicapped means to be totally dependent on whoever would be willing to take the time to take care of you, for the rest of your life.',\n",
       " 'By making laws that will protect the right of the unborn children, who are incapable of communicating with us, we can protect them from harm until they are born so that they at least have a chance to a normal life.',\n",
       " \"If we can give rights to an animal that will most likely not have any effect on anyone's life, why can't we give rights to an unborn child who will have an influence on many people thoughout his or her life.\",\n",
       " 'Obviously there will still be many mothers who will not be caught using drugs while pregnant, but if we could save just one child from a life of total dependency and misery, then it would be worth while.']"
      ]
     },
     "execution_count": 22,
     "metadata": {},
     "output_type": "execute_result"
    }
   ],
   "source": [
    "from nltk.tokenize import sent_tokenize\n",
    "sentances = sent_tokenize(text)\n",
    "sentances"
   ]
  },
  {
   "cell_type": "code",
   "execution_count": 23,
   "metadata": {
    "collapsed": true
   },
   "outputs": [
    {
     "data": {
      "text/plain": [
       "TfidfVectorizer(analyzer='word', binary=False, decode_error='strict',\n",
       "        dtype=<class 'numpy.int64'>, encoding='utf-8', input='content',\n",
       "        lowercase=True, max_df=1.0, max_features=None, min_df=1,\n",
       "        ngram_range=(1, 1), norm='l2', preprocessor=None, smooth_idf=True,\n",
       "        stop_words=None, strip_accents=None, sublinear_tf=False,\n",
       "        token_pattern='(?u)\\\\b\\\\w\\\\w+\\\\b', tokenizer=None, use_idf=True,\n",
       "        vocabulary=None)"
      ]
     },
     "execution_count": 23,
     "metadata": {},
     "output_type": "execute_result"
    }
   ],
   "source": [
    "from sklearn.feature_extraction.text import TfidfVectorizer\n",
    "tfidf = TfidfVectorizer()\n",
    "tfidf.fit(sentances)\n"
   ]
  },
  {
   "cell_type": "markdown",
   "metadata": {},
   "source": [
    "## BOW"
   ]
  },
  {
   "cell_type": "code",
   "execution_count": 60,
   "metadata": {
    "collapsed": true
   },
   "outputs": [
    {
     "name": "stdout",
     "output_type": "stream",
     "text": [
      "{'everyday': 86, 'there': 228, 'are': 19, 'pregnant': 187, 'mothers': 160, 'who': 263, 'abuse': 2, 'drugs': 79, 'and': 13, 'alcohol': 10, 'totally': 242, 'ignoring': 120, 'the': 223, 'living': 144, 'growing': 106, 'person': 181, 'inside': 126, 'them': 225, 'then': 226, 'when': 260, 'these': 230, 'children': 51, 'born': 38, 'they': 231, 'usually': 251, 'with': 268, 'drug': 78, 'addiction': 6, 'or': 172, 'birth': 35, 'defects': 67, 'which': 261, 'sometimes': 213, 'leads': 136, 'to': 240, 'death': 65, 'one': 171, 'thing': 232, 'for': 92, 'sure': 218, 'lives': 143, 'greatly': 104, 'complexed': 56, 'before': 32, 'even': 85, 'reach': 193, 'light': 139, 'of': 168, 'day': 64, 'my': 162, 'position': 185, 'that': 222, 'rights': 199, 'child': 50, 'should': 206, 'be': 28, 'extended': 89, 'unborn': 245, 'mother': 159, 'not': 165, 'have': 111, 'right': 198, 'use': 249, 'drink': 77, 'while': 262, 'she': 205, 'is': 129, 'it': 130, 'unfair': 246, 'chance': 49, 'normal': 164, 'life': 138, 'if': 118, 'beat': 29, 'her': 115, 'baby': 25, 'was': 254, 'reported': 195, 'welfare': 256, 'board': 36, 'would': 275, 'thrown': 238, 'in': 121, 'jail': 132, 'without': 269, 'second': 203, 'thought': 236, 'but': 41, 'just': 133, 'because': 30, 'yet': 277, 'doesn': 73, 'mean': 150, 'can': 44, 'do': 72, 'anything': 18, 'wants': 253, 'take': 219, 'has': 110, 'been': 31, 'goes': 100, 'through': 237, 'pain': 176, 'having': 112, 'an': 12, 'abusive': 4, 'parent': 177, 'parents': 178, 'exposed': 88, 'authorities': 22, 'will': 266, 'go': 99, 'lose': 145, 'proper': 190, 'counseling': 59, 'therapy': 227, 'live': 142, 'whatever': 259, 'like': 140, 'means': 151, 'harming': 109, 'nothing': 166, 'might': 154, 'irreparable': 128, 'brain': 39, 'damage': 62, 'some': 210, 'physical': 182, 'defect': 66, 'able': 0, 'rest': 197, 'same': 201, 'as': 20, 'severity': 204, 'much': 161, 'greater': 103, 'done': 76, 'me': 149, 'this': 234, 'worst': 273, 'kind': 134, 'getting': 97, 'abused': 3, 'may': 148, 'ingesting': 124, 'unable': 244, 'defend': 68, 'itself': 131, 'could': 58, 'call': 43, 'someone': 211, 'help': 113, 'cannot': 45, 'speak': 214, 'therefore': 229, 'needs': 163, 'case': 47, 'any': 16, 'danger': 63, 'come': 52, 'our': 173, 'society': 209, 'we': 255, 'give': 98, 'creature': 60, 'human': 117, 'more': 157, 'animals': 15, 'than': 221, 'own': 175, 'figure': 91, 'far': 90, 'off': 169, 'from': 94, 'creatures': 61, 'grow': 105, 'eat': 82, 'sleep': 207, 'communicate': 54, 'beings': 33, 'babies': 24, 'also': 11, 'us': 248, 'species': 215, 'why': 265, 'initially': 125, 'gave': 95, 'on': 170, 'basis': 27, 'were': 257, 'helpless': 114, 'their': 224, 'minds': 155, 'exact': 87, 'boat': 37, 'still': 216, 'overlook': 174, 'believe': 34, 'don': 75, 'great': 102, 'after': 8, 'prevented': 188, 'problem': 189, 'taken': 220, 'away': 23, 'placed': 184, 'into': 127, 'foster': 93, 'care': 46, 'until': 247, 'adopted': 7, 'rehabilitated': 194, 'womb': 270, 'mental': 152, 'won': 271, 'so': 208, 'easy': 81, 'get': 96, 'want': 252, 'back': 26, 'denied': 69, 'responsible': 196, 'enough': 84, 'protected': 192, 'against': 9, 'wrong': 276, 'doing': 74, 'part': 179, 'sad': 200, 'true': 243, 'mentally': 153, 'physically': 183, 'handicapped': 107, 'accepted': 5, 'ignored': 119, 'by': 42, 'common': 53, 'think': 233, 'bring': 40, 'going': 101, 'what': 258, 'consumes': 57, 'during': 80, 'time': 239, 'pregnancy': 186, 'world': 272, 'such': 217, 'something': 212, 'about': 1, 'dependent': 71, 'whoever': 264, 'willing': 267, 'you': 278, 'your': 279, 'making': 146, 'laws': 135, 'protect': 191, 'incapable': 122, 'communicating': 55, 'harm': 108, 'at': 21, 'least': 137, 'animal': 14, 'most': 158, 'likely': 141, 'effect': 83, 'anyone': 17, 'influence': 123, 'many': 147, 'people': 180, 'thoughout': 235, 'his': 116, 'obviously': 167, 'caught': 48, 'using': 250, 'save': 202, 'total': 241, 'dependency': 70, 'misery': 156, 'worth': 274}\n"
     ]
    }
   ],
   "source": [
    "print(tfidf.vocabulary_)"
   ]
  },
  {
   "cell_type": "code",
   "execution_count": 62,
   "metadata": {
    "collapsed": true
   },
   "outputs": [
    {
     "name": "stdout",
     "output_type": "stream",
     "text": [
      "[[ 0.          0.          0.224424    0.          0.          0.          0.\n",
      "   0.          0.          0.          0.224424    0.          0.\n",
      "   0.13400742  0.          0.          0.          0.          0.\n",
      "   0.1501481   0.          0.          0.          0.          0.          0.\n",
      "   0.          0.          0.          0.          0.          0.          0.\n",
      "   0.          0.          0.          0.          0.          0.          0.\n",
      "   0.          0.          0.          0.          0.          0.          0.\n",
      "   0.          0.          0.          0.          0.          0.          0.\n",
      "   0.          0.          0.          0.          0.          0.          0.\n",
      "   0.          0.          0.          0.          0.          0.          0.\n",
      "   0.          0.          0.          0.          0.          0.          0.\n",
      "   0.          0.          0.          0.          0.224424    0.          0.\n",
      "   0.          0.          0.          0.          0.29565111  0.          0.\n",
      "   0.          0.          0.          0.          0.          0.          0.\n",
      "   0.          0.          0.          0.          0.          0.          0.\n",
      "   0.          0.          0.          0.29565111  0.          0.          0.\n",
      "   0.          0.          0.          0.          0.          0.          0.\n",
      "   0.          0.          0.          0.29565111  0.          0.          0.\n",
      "   0.          0.          0.29565111  0.          0.          0.          0.\n",
      "   0.          0.          0.          0.          0.          0.          0.\n",
      "   0.          0.          0.          0.          0.          0.          0.224424\n",
      "   0.          0.          0.          0.          0.          0.          0.\n",
      "   0.          0.          0.          0.          0.          0.          0.\n",
      "   0.          0.24176988  0.          0.          0.          0.          0.\n",
      "   0.          0.          0.          0.          0.          0.          0.\n",
      "   0.          0.          0.          0.          0.          0.          0.\n",
      "   0.          0.224424    0.          0.          0.          0.          0.\n",
      "   0.24176988  0.          0.          0.          0.          0.          0.\n",
      "   0.          0.          0.          0.          0.          0.          0.\n",
      "   0.          0.          0.          0.          0.          0.          0.\n",
      "   0.          0.          0.          0.          0.          0.          0.\n",
      "   0.          0.          0.          0.          0.          0.          0.\n",
      "   0.          0.10579726  0.          0.24176988  0.          0.\n",
      "   0.26413261  0.          0.          0.          0.          0.          0.\n",
      "   0.          0.          0.          0.          0.          0.          0.\n",
      "   0.26413261  0.          0.          0.          0.          0.          0.\n",
      "   0.          0.          0.          0.          0.          0.          0.\n",
      "   0.          0.          0.          0.          0.          0.          0.\n",
      "   0.17873288  0.          0.          0.          0.          0.          0.\n",
      "   0.          0.          0.          0.          0.          0.          0.\n",
      "   0.          0.          0.        ]]\n",
      "(1, 280)\n"
     ]
    }
   ],
   "source": [
    "vector = tfidf.transform([sentances[0]])\n",
    "print(vector.toarray())\n",
    "print(vector.shape)\n"
   ]
  },
  {
   "cell_type": "code",
   "execution_count": 63,
   "metadata": {},
   "outputs": [],
   "source": [
    "from keras.preprocessing.text import Tokenizer\n",
    "t = Tokenizer()"
   ]
  },
  {
   "cell_type": "code",
   "execution_count": 65,
   "metadata": {
    "collapsed": true
   },
   "outputs": [],
   "source": [
    "t.fit_on_texts(sentances)"
   ]
  },
  {
   "cell_type": "code",
   "execution_count": 66,
   "metadata": {
    "collapsed": true
   },
   "outputs": [
    {
     "name": "stdout",
     "output_type": "stream",
     "text": [
      "OrderedDict([('everyday', 2), ('there', 4), ('are', 32), ('pregnant', 6), ('mothers', 6), ('who', 18), ('abuse', 8), ('drugs', 8), ('and', 44), ('alcohol', 8), ('totally', 4), ('ignoring', 2), ('the', 98), ('living', 10), ('growing', 2), ('person', 8), ('inside', 2), ('them', 6), ('then', 8), ('when', 4), ('these', 6), ('children', 14), ('born', 20), ('they', 20), ('usually', 4), ('with', 12), ('a', 52), ('drug', 4), ('addiction', 2), ('or', 20), ('birth', 2), ('defects', 4), ('which', 4), ('sometimes', 2), ('leads', 4), ('to', 72), ('death', 2), ('one', 4), (\"thing's\", 2), ('for', 16), ('sure', 2), (\"children's\", 2), ('lives', 2), ('greatly', 2), ('complexed', 2), ('before', 4), ('even', 10), ('reach', 2), ('light', 2), ('of', 26), ('day', 2), ('my', 2), ('position', 2), ('that', 26), ('rights', 22), ('child', 48), ('should', 10), ('be', 32), ('extended', 2), ('unborn', 26), ('mother', 18), ('not', 26), ('have', 24), ('right', 8), ('use', 2), ('drink', 2), ('while', 8), ('she', 6), ('is', 32), ('it', 28), ('unfair', 2), ('chance', 8), ('normal', 12), ('life', 26), ('if', 26), ('beat', 2), ('her', 6), ('baby', 6), ('was', 6), ('reported', 2), ('welfare', 2), ('board', 2), ('would', 10), ('thrown', 2), ('in', 12), ('jail', 4), ('without', 2), ('second', 2), ('thought', 2), ('but', 14), ('just', 6), ('because', 4), ('yet', 6), (\"doesn't\", 2), ('mean', 2), ('can', 16), ('do', 10), ('anything', 2), ('wants', 2), ('take', 6), ('has', 4), ('been', 2), ('goes', 4), ('through', 4), ('pain', 4), ('having', 2), ('an', 12), ('abusive', 2), ('parent', 2), ('parents', 6), ('exposed', 2), ('authorities', 4), ('will', 18), ('go', 2), ('lose', 2), ('proper', 2), ('counseling', 2), ('therapy', 2), ('live', 8), ('whatever', 4), ('like', 2), ('means', 4), ('harming', 2), ('nothing', 4), ('might', 8), ('irreparable', 2), ('brain', 2), ('damage', 2), ('some', 2), ('physical', 4), ('defect', 2), ('able', 2), ('rest', 4), (\"it's\", 4), ('same', 6), ('as', 6), ('severity', 2), ('much', 2), ('greater', 2), ('done', 2), ('me', 2), ('this', 4), ('worst', 2), ('kind', 2), ('getting', 2), ('abused', 6), ('may', 2), ('ingesting', 2), ('unable', 4), ('defend', 2), ('itself', 2), ('could', 6), ('call', 2), ('someone', 4), ('help', 2), ('cannot', 6), ('speak', 6), ('therefore', 2), ('needs', 2), ('case', 2), ('any', 10), ('danger', 2), ('come', 2), ('our', 12), ('society', 4), ('we', 28), ('give', 14), ('creature', 2), ('human', 6), ('more', 2), ('animals', 10), ('than', 2), ('own', 6), ('i', 6), ('figure', 2), ('far', 2), ('off', 2), ('from', 8), ('creatures', 2), ('grow', 4), ('eat', 4), ('sleep', 4), ('communicate', 4), ('beings', 4), ('babies', 4), ('also', 2), ('us', 4), ('species', 2), ('why', 4), (\"can't\", 4), ('initially', 2), ('gave', 2), ('on', 10), ('basis', 2), ('were', 4), ('helpless', 2), ('their', 4), ('minds', 2), ('exact', 2), ('boat', 2), ('still', 6), ('overlook', 2), ('believe', 2), (\"don't\", 4), ('great', 2), ('after', 2), ('prevented', 2), ('problem', 2), ('taken', 2), ('away', 2), ('placed', 2), ('into', 4), ('foster', 2), ('care', 4), ('until', 4), ('adopted', 4), ('rehabilitated', 2), ('womb', 2), ('mental', 2), (\"won't\", 2), ('so', 4), ('easy', 2), ('get', 2), ('want', 2), ('back', 2), ('denied', 2), ('responsible', 2), ('enough', 2), ('protected', 2), ('against', 2), ('wrong', 2), ('doing', 2), (\"mother's\", 2), ('part', 2), ('sad', 2), ('true', 2), ('mentally', 2), ('physically', 2), ('handicapped', 6), ('accepted', 2), ('ignored', 2), ('by', 6), ('common', 2), ('think', 2), ('bring', 2), ('going', 2), ('what', 2), ('consumes', 2), ('during', 2), ('time', 4), ('pregnancy', 2), ('world', 2), ('such', 2), ('something', 2), ('about', 2), ('dependent', 2), ('whoever', 2), ('willing', 2), ('you', 2), ('your', 2), ('making', 2), ('laws', 2), ('protect', 4), ('incapable', 2), ('communicating', 2), ('harm', 2), ('at', 2), ('least', 2), ('animal', 2), ('most', 2), ('likely', 2), ('effect', 2), (\"anyone's\", 2), ('influence', 2), ('many', 4), ('people', 2), ('thoughout', 2), ('his', 2), ('obviously', 2), ('caught', 2), ('using', 2), ('save', 2), ('total', 2), ('dependency', 2), ('misery', 2), ('worth', 2)])\n"
     ]
    }
   ],
   "source": [
    "t.word_counts"
   ]
  },
  {
   "cell_type": "code",
   "execution_count": 68,
   "metadata": {
    "collapsed": true
   },
   "outputs": [
    {
     "name": "stdout",
     "output_type": "stream",
     "text": [
      "{'mothers': 6, 'are': 24, 'everyday': 2, 'drugs': 8, 'them': 6, 'alcohol': 8, 'ignoring': 2, 'the': 44, 'living': 8, 'there': 4, 'who': 16, 'and': 30, 'abuse': 8, 'growing': 2, 'pregnant': 6, 'inside': 2, 'person': 8, 'totally': 4, 'usually': 4, 'these': 6, 'defects': 4, 'with': 10, 'birth': 2, 'sometimes': 2, 'addiction': 2, 'to': 42, 'born': 16, 'or': 16, 'which': 4, 'death': 2, 'they': 14, 'then': 8, 'children': 14, 'a': 26, 'leads': 4, 'drug': 4, 'when': 4, 'sure': 2, 'for': 12, \"children's\": 2, 'reach': 2, 'day': 2, \"thing's\": 2, 'greatly': 2, 'one': 4, 'before': 4, 'light': 2, 'even': 10, 'of': 22, 'lives': 2, 'complexed': 2, 'position': 2, 'should': 10, 'child': 32, 'unborn': 26, 'my': 2, 'that': 20, 'rights': 18, 'be': 24, 'extended': 2, 'life': 20, 'drink': 2, 'mother': 14, 'chance': 8, 'she': 6, 'while': 6, 'not': 22, 'it': 20, 'is': 24, 'use': 2, 'unfair': 2, 'normal': 12, 'right': 8, 'have': 18, 'thought': 2, 'do': 8, 'her': 6, 'because': 4, 'thrown': 2, 'second': 2, 'beat': 2, 'jail': 4, 'without': 2, 'wants': 2, 'mean': 2, 'in': 12, 'baby': 6, 'welfare': 2, 'can': 14, 'but': 12, 'board': 2, 'reported': 2, 'anything': 2, \"doesn't\": 2, 'was': 6, 'just': 6, 'if': 24, 'would': 10, 'yet': 6, 'parent': 2, 'an': 8, 'been': 2, 'take': 4, 'has': 4, 'goes': 4, 'having': 2, 'pain': 4, 'abusive': 2, 'through': 4, 'exposed': 2, 'authorities': 4, 'proper': 2, 'therapy': 2, 'will': 12, 'go': 2, 'live': 8, 'parents': 6, 'lose': 2, 'counseling': 2, 'means': 4, 'harming': 2, 'nothing': 4, 'whatever': 4, 'like': 2, 'damage': 2, 'rest': 4, 'defect': 2, 'some': 2, 'physical': 4, 'brain': 2, 'able': 2, 'might': 6, \"it's\": 4, 'irreparable': 2, 'same': 6, 'as': 6, 'severity': 2, 'much': 2, 'greater': 2, 'done': 2, 'me': 2, 'this': 4, 'worst': 2, 'kind': 2, 'unable': 4, 'may': 2, 'abused': 6, 'getting': 2, 'itself': 2, 'ingesting': 2, 'defend': 2, 'cannot': 4, 'call': 2, 'help': 2, 'therefore': 2, 'come': 2, 'speak': 4, 'could': 6, 'someone': 2, 'case': 2, 'any': 10, 'needs': 2, 'danger': 2, 'our': 10, 'creature': 2, 'we': 18, 'society': 4, 'human': 4, 'give': 10, 'more': 2, 'own': 4, 'than': 2, 'animals': 10, 'i': 6, 'from': 8, 'off': 2, 'far': 2, 'figure': 2, 'sleep': 2, 'babies': 4, 'creatures': 2, 'eat': 2, 'grow': 2, 'beings': 2, 'also': 2, 'us': 4, 'communicate': 2, 'species': 2, 'why': 4, \"can't\": 4, 'basis': 2, 'minds': 2, 'boat': 2, 'gave': 2, 'exact': 2, 'still': 6, 'helpless': 2, 'their': 4, 'initially': 2, 'on': 8, 'were': 2, 'overlook': 2, 'after': 2, 'prevented': 2, 'believe': 2, 'great': 2, \"don't\": 4, 'problem': 2, 'taken': 2, 'into': 4, 'rehabilitated': 2, 'placed': 2, 'away': 2, 'care': 4, 'foster': 2, 'adopted': 4, 'until': 4, 'easy': 2, 'mental': 2, 'back': 2, 'womb': 2, 'so': 4, 'get': 2, \"won't\": 2, 'want': 2, 'enough': 2, 'responsible': 2, 'denied': 2, 'wrong': 2, 'part': 2, \"mother's\": 2, 'protected': 2, 'doing': 2, 'against': 2, 'mentally': 2, 'true': 2, 'common': 2, 'accepted': 2, 'physically': 2, 'handicapped': 6, 'ignored': 2, 'by': 6, 'sad': 2, 'something': 2, 'time': 4, 'think': 2, 'world': 2, 'what': 2, 'such': 2, 'about': 2, 'going': 2, 'bring': 2, 'during': 2, 'pregnancy': 2, 'consumes': 2, 'whoever': 2, 'willing': 2, 'dependent': 2, 'your': 2, 'you': 2, 'protect': 2, 'at': 2, 'communicating': 2, 'least': 2, 'incapable': 2, 'harm': 2, 'making': 2, 'laws': 2, 'animal': 2, 'likely': 2, 'his': 2, \"anyone's\": 2, 'influence': 2, 'people': 2, 'most': 2, 'thoughout': 2, 'effect': 2, 'many': 4, 'save': 2, 'worth': 2, 'obviously': 2, 'caught': 2, 'misery': 2, 'using': 2, 'dependency': 2, 'total': 2}\n"
     ]
    }
   ],
   "source": [
    "print(t.word_docs)"
   ]
  },
  {
   "cell_type": "code",
   "execution_count": 70,
   "metadata": {
    "collapsed": true
   },
   "outputs": [
    {
     "name": "stdout",
     "output_type": "stream",
     "text": [
      "{'the': 1, 'to': 2, 'a': 3, 'child': 4, 'and': 5, 'are': 6, 'be': 7, 'is': 8, 'it': 9, 'we': 10, 'of': 11, 'that': 12, 'unborn': 13, 'not': 14, 'life': 15, 'if': 16, 'have': 17, 'rights': 18, 'born': 19, 'they': 20, 'or': 21, 'who': 22, 'mother': 23, 'will': 24, 'for': 25, 'can': 26, 'children': 27, 'but': 28, 'give': 29, 'with': 30, 'normal': 31, 'in': 32, 'an': 33, 'our': 34, 'living': 35, 'even': 36, 'should': 37, 'would': 38, 'do': 39, 'any': 40, 'animals': 41, 'on': 42, 'abuse': 43, 'drugs': 44, 'alcohol': 45, 'person': 46, 'then': 47, 'right': 48, 'while': 49, 'chance': 50, 'live': 51, 'might': 52, 'from': 53, 'pregnant': 54, 'mothers': 55, 'them': 56, 'these': 57, 'she': 58, 'her': 59, 'baby': 60, 'was': 61, 'just': 62, 'yet': 63, 'take': 64, 'parents': 65, 'same': 66, 'as': 67, 'abused': 68, 'could': 69, 'cannot': 70, 'speak': 71, 'human': 72, 'own': 73, 'i': 74, 'still': 75, 'handicapped': 76, 'by': 77, 'there': 78, 'totally': 79, 'when': 80, 'usually': 81, 'drug': 82, 'defects': 83, 'which': 84, 'leads': 85, 'one': 86, 'before': 87, 'jail': 88, 'because': 89, 'has': 90, 'goes': 91, 'through': 92, 'pain': 93, 'authorities': 94, 'whatever': 95, 'means': 96, 'nothing': 97, 'physical': 98, 'rest': 99, \"it's\": 100, 'this': 101, 'unable': 102, 'someone': 103, 'society': 104, 'grow': 105, 'eat': 106, 'sleep': 107, 'communicate': 108, 'beings': 109, 'babies': 110, 'us': 111, 'why': 112, \"can't\": 113, 'were': 114, 'their': 115, \"don't\": 116, 'into': 117, 'care': 118, 'until': 119, 'adopted': 120, 'so': 121, 'time': 122, 'protect': 123, 'many': 124, 'everyday': 125, 'ignoring': 126, 'growing': 127, 'inside': 128, 'addiction': 129, 'birth': 130, 'sometimes': 131, 'death': 132, \"thing's\": 133, 'sure': 134, \"children's\": 135, 'lives': 136, 'greatly': 137, 'complexed': 138, 'reach': 139, 'light': 140, 'day': 141, 'my': 142, 'position': 143, 'extended': 144, 'use': 145, 'drink': 146, 'unfair': 147, 'beat': 148, 'reported': 149, 'welfare': 150, 'board': 151, 'thrown': 152, 'without': 153, 'second': 154, 'thought': 155, \"doesn't\": 156, 'mean': 157, 'anything': 158, 'wants': 159, 'been': 160, 'having': 161, 'abusive': 162, 'parent': 163, 'exposed': 164, 'go': 165, 'lose': 166, 'proper': 167, 'counseling': 168, 'therapy': 169, 'like': 170, 'harming': 171, 'irreparable': 172, 'brain': 173, 'damage': 174, 'some': 175, 'defect': 176, 'able': 177, 'severity': 178, 'much': 179, 'greater': 180, 'done': 181, 'me': 182, 'worst': 183, 'kind': 184, 'getting': 185, 'may': 186, 'ingesting': 187, 'defend': 188, 'itself': 189, 'call': 190, 'help': 191, 'therefore': 192, 'needs': 193, 'case': 194, 'danger': 195, 'come': 196, 'creature': 197, 'more': 198, 'than': 199, 'figure': 200, 'far': 201, 'off': 202, 'creatures': 203, 'also': 204, 'species': 205, 'initially': 206, 'gave': 207, 'basis': 208, 'helpless': 209, 'minds': 210, 'exact': 211, 'boat': 212, 'overlook': 213, 'believe': 214, 'great': 215, 'after': 216, 'prevented': 217, 'problem': 218, 'taken': 219, 'away': 220, 'placed': 221, 'foster': 222, 'rehabilitated': 223, 'womb': 224, 'mental': 225, \"won't\": 226, 'easy': 227, 'get': 228, 'want': 229, 'back': 230, 'denied': 231, 'responsible': 232, 'enough': 233, 'protected': 234, 'against': 235, 'wrong': 236, 'doing': 237, \"mother's\": 238, 'part': 239, 'sad': 240, 'true': 241, 'mentally': 242, 'physically': 243, 'accepted': 244, 'ignored': 245, 'common': 246, 'think': 247, 'bring': 248, 'going': 249, 'what': 250, 'consumes': 251, 'during': 252, 'pregnancy': 253, 'world': 254, 'such': 255, 'something': 256, 'about': 257, 'dependent': 258, 'whoever': 259, 'willing': 260, 'you': 261, 'your': 262, 'making': 263, 'laws': 264, 'incapable': 265, 'communicating': 266, 'harm': 267, 'at': 268, 'least': 269, 'animal': 270, 'most': 271, 'likely': 272, 'effect': 273, \"anyone's\": 274, 'influence': 275, 'people': 276, 'thoughout': 277, 'his': 278, 'obviously': 279, 'caught': 280, 'using': 281, 'save': 282, 'total': 283, 'dependency': 284, 'misery': 285, 'worth': 286}\n"
     ]
    }
   ],
   "source": [
    "print(t.word_index)"
   ]
  },
  {
   "cell_type": "code",
   "execution_count": 71,
   "metadata": {},
   "outputs": [
    {
     "data": {
      "text/plain": [
       "32"
      ]
     },
     "execution_count": 71,
     "metadata": {},
     "output_type": "execute_result"
    }
   ],
   "source": [
    "t.document_count #num of sentances"
   ]
  },
  {
   "cell_type": "code",
   "execution_count": 72,
   "metadata": {},
   "outputs": [
    {
     "data": {
      "text/plain": [
       "array([[ 0.,  1.,  0., ...,  0.,  0.,  0.],\n",
       "       [ 0.,  0.,  1., ...,  0.,  0.,  0.],\n",
       "       [ 0.,  1.,  0., ...,  0.,  0.,  0.],\n",
       "       ..., \n",
       "       [ 0.,  2.,  1., ...,  0.,  0.,  0.],\n",
       "       [ 0.,  0.,  2., ...,  0.,  0.,  0.],\n",
       "       [ 0.,  0.,  0., ...,  1.,  1.,  1.]])"
      ]
     },
     "execution_count": 72,
     "metadata": {},
     "output_type": "execute_result"
    }
   ],
   "source": [
    "#inetger encoded docs will be like\n",
    "encoded_docs = t.texts_to_matrix(sentances,mode='count')\n",
    "encoded_docs\n"
   ]
  },
  {
   "cell_type": "code",
   "execution_count": 73,
   "metadata": {},
   "outputs": [
    {
     "data": {
      "text/plain": [
       "<gensim.models.word2vec.Word2Vec at 0x15342c18>"
      ]
     },
     "execution_count": 73,
     "metadata": {},
     "output_type": "execute_result"
    }
   ],
   "source": [
    "wmodel1 = gensim.models.Word2Vec(sentences=sentances,min_count=1)\n",
    "wmodel1"
   ]
  },
  {
   "cell_type": "markdown",
   "metadata": {},
   "source": [
    "## PCA on word embeddings"
   ]
  },
  {
   "cell_type": "code",
   "execution_count": 74,
   "metadata": {
    "collapsed": true
   },
   "outputs": [],
   "source": [
    "from sklearn.decomposition import PCA\n",
    "import matplotlib.pyplot as plt"
   ]
  },
  {
   "cell_type": "code",
   "execution_count": 75,
   "metadata": {
    "collapsed": true
   },
   "outputs": [],
   "source": [
    "sentences = [['this', 'is', 'the', 'first', 'sentence', 'for', 'word2vec'],\n",
    "['this', 'is', 'the', 'second', 'sentence'],\n",
    "['yet', 'another', 'sentence'],\n",
    "['one', 'more', 'sentence'],\n",
    "['and', 'the', 'final', 'sentence']]"
   ]
  },
  {
   "cell_type": "code",
   "execution_count": 76,
   "metadata": {
    "collapsed": true
   },
   "outputs": [],
   "source": [
    "from gensim.models import Word2Vec"
   ]
  },
  {
   "cell_type": "code",
   "execution_count": 77,
   "metadata": {},
   "outputs": [
    {
     "data": {
      "text/plain": [
       "<gensim.models.word2vec.Word2Vec at 0x153456a0>"
      ]
     },
     "execution_count": 77,
     "metadata": {},
     "output_type": "execute_result"
    }
   ],
   "source": [
    "model = Word2Vec(sentences=sentences,min_count=1)\n",
    "model"
   ]
  },
  {
   "cell_type": "code",
   "execution_count": 78,
   "metadata": {},
   "outputs": [
    {
     "name": "stderr",
     "output_type": "stream",
     "text": [
      "C:\\Users\\HP\\Anaconda3\\lib\\site-packages\\ipykernel_launcher.py:1: DeprecationWarning: Call to deprecated `__getitem__` (Method will be removed in 4.0.0, use self.wv.__getitem__() instead).\n",
      "  \"\"\"Entry point for launching an IPython kernel.\n"
     ]
    },
    {
     "data": {
      "text/plain": [
       "array([[ 0.00468326, -0.00015402,  0.00030256, ..., -0.0008008 ,\n",
       "        -0.0024269 , -0.00182365],\n",
       "       [ 0.00482224, -0.00488715, -0.00127736, ...,  0.00364331,\n",
       "         0.00455185,  0.00155795],\n",
       "       [-0.00019836,  0.00372981,  0.0021065 , ..., -0.00278349,\n",
       "         0.00158178, -0.00173291],\n",
       "       ..., \n",
       "       [ 0.00326947, -0.00272495, -0.00343459, ..., -0.00308751,\n",
       "         0.0005826 ,  0.00206493],\n",
       "       [ 0.00259851,  0.0035682 ,  0.0024903 , ..., -0.00242985,\n",
       "         0.00308305,  0.00434686],\n",
       "       [-0.00216267,  0.00292458,  0.00419038, ...,  0.00028732,\n",
       "         0.00086753, -0.00267836]], dtype=float32)"
      ]
     },
     "execution_count": 78,
     "metadata": {},
     "output_type": "execute_result"
    }
   ],
   "source": [
    "x = model[model.wv.vocab]\n",
    "x"
   ]
  },
  {
   "cell_type": "code",
   "execution_count": 79,
   "metadata": {
    "collapsed": true
   },
   "outputs": [],
   "source": [
    "pca = PCA(n_components=2)\n"
   ]
  },
  {
   "cell_type": "code",
   "execution_count": 80,
   "metadata": {},
   "outputs": [
    {
     "data": {
      "text/plain": [
       "array([[-0.00112196, -0.01146902],\n",
       "       [ 0.01135565, -0.00328881],\n",
       "       [-0.01704156, -0.00262597],\n",
       "       [ 0.00150354, -0.00397631],\n",
       "       [-0.00889221,  0.00297921],\n",
       "       [ 0.00231257, -0.00399684],\n",
       "       [ 0.00663462,  0.02007212],\n",
       "       [ 0.00563085,  0.01842734],\n",
       "       [-0.00428342,  0.00140794],\n",
       "       [ 0.00166879, -0.00057669],\n",
       "       [ 0.0202038 , -0.00784212],\n",
       "       [ 0.00829106, -0.00887933],\n",
       "       [-0.01135408,  0.00565914],\n",
       "       [-0.01490765, -0.00589066]], dtype=float32)"
      ]
     },
     "execution_count": 80,
     "metadata": {},
     "output_type": "execute_result"
    }
   ],
   "source": [
    "result = pca.fit_transform(x)\n",
    "result"
   ]
  },
  {
   "cell_type": "code",
   "execution_count": 87,
   "metadata": {},
   "outputs": [
    {
     "data": {
      "image/png": "[encoded data removed]",
      "text/plain": [
       "<matplotlib.figure.Figure at 0x15799c18>"
      ]
     },
     "metadata": {},
     "output_type": "display_data"
    }
   ],
   "source": [
    "plt.scatter(result[:,0],result[:,1])\n",
    "plt.show()"
   ]
  },
  {
   "cell_type": "code",
   "execution_count": 89,
   "metadata": {},
   "outputs": [
    {
     "data": {
      "text/plain": [
       "['this',\n",
       " 'is',\n",
       " 'the',\n",
       " 'first',\n",
       " 'sentence',\n",
       " 'for',\n",
       " 'word2vec',\n",
       " 'second',\n",
       " 'yet',\n",
       " 'another',\n",
       " 'one',\n",
       " 'more',\n",
       " 'and',\n",
       " 'final']"
      ]
     },
     "execution_count": 89,
     "metadata": {},
     "output_type": "execute_result"
    }
   ],
   "source": [
    "words = list(model.wv.vocab)\n",
    "words"
   ]
  },
  {
   "cell_type": "code",
   "execution_count": 91,
   "metadata": {
    "collapsed": true
   },
   "outputs": [],
   "source": [
    "from keras.layers import Dense,Flatten\n",
    "from keras.models import Sequential\n",
    "from keras.layers.embeddings import Embedding"
   ]
  },
  {
   "cell_type": "code",
   "execution_count": 92,
   "metadata": {
    "collapsed": true
   },
   "outputs": [],
   "source": [
    "#define problem\n",
    "vocab_size = 200\n",
    "max_length = 32 #output dim\n"
   ]
  },
  {
   "cell_type": "code",
   "execution_count": 93,
   "metadata": {
    "collapsed": true
   },
   "outputs": [],
   "source": [
    "model = Sequential()\n",
    "model.add(Embedding(vocab_size,8,input_length=max_length))\n",
    "model.add(Flatten())\n",
    "model.add(Dense(1,activation='sigmoid'))\n"
   ]
  },
  {
   "cell_type": "code",
   "execution_count": 94,
   "metadata": {
    "collapsed": true
   },
   "outputs": [],
   "source": [
    "from keras.optimizers import Adam\n",
    "adam = Adam()"
   ]
  },
  {
   "cell_type": "code",
   "execution_count": 95,
   "metadata": {
    "collapsed": true
   },
   "outputs": [],
   "source": [
    "model.compile(optimizer=adam,loss='binary_crossentropy',metrics=['acc'])"
   ]
  },
  {
   "cell_type": "code",
   "execution_count": 96,
   "metadata": {},
   "outputs": [
    {
     "name": "stdout",
     "output_type": "stream",
     "text": [
      "_________________________________________________________________\n",
      "Layer (type)                 Output Shape              Param #   \n",
      "=================================================================\n",
      "embedding_2 (Embedding)      (None, 32, 8)             1600      \n",
      "_________________________________________________________________\n",
      "flatten_2 (Flatten)          (None, 256)               0         \n",
      "_________________________________________________________________\n",
      "dense_2 (Dense)              (None, 1)                 257       \n",
      "=================================================================\n",
      "Total params: 1,857\n",
      "Trainable params: 1,857\n",
      "Non-trainable params: 0\n",
      "_________________________________________________________________\n"
     ]
    }
   ],
   "source": [
    "model.summary()"
   ]
  },
  {
   "cell_type": "code",
   "execution_count": 97,
   "metadata": {},
   "outputs": [
    {
     "data": {
      "text/plain": [
       "3"
      ]
     },
     "execution_count": 97,
     "metadata": {},
     "output_type": "execute_result"
    }
   ],
   "source": [
    "#1600 = vocan_size*neurons = 200*8\n",
    "# 32*8 = 256\n",
    "# 256+1 = 257\n",
    "a = model.get_weights()\n",
    "len(a)\n"
   ]
  },
  {
   "cell_type": "code",
   "execution_count": 98,
   "metadata": {},
   "outputs": [
    {
     "name": "stdout",
     "output_type": "stream",
     "text": [
      "200\n",
      "256\n",
      "1\n"
     ]
    }
   ],
   "source": [
    "for i in range(len(a)):\n",
    "    print(len(a[i]))"
   ]
  },
  {
   "cell_type": "code",
   "execution_count": null,
   "metadata": {
    "collapsed": true
   },
   "outputs": [],
   "source": []
  }
 ],
 "metadata": {
  "kernelspec": {
   "display_name": "Python 3",
   "language": "python",
   "name": "python3"
  },
  "language_info": {
   "codemirror_mode": {
    "name": "ipython",
    "version": 3
   },
   "file_extension": ".py",
   "mimetype": "text/x-python",
   "name": "python",
   "nbconvert_exporter": "python",
   "pygments_lexer": "ipython3",
   "version": "3.6.3"
  }
 },
 "nbformat": 4,
 "nbformat_minor": 2
}
