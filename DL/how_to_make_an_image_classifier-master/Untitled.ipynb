{
 "cells": [
  {
   "cell_type": "code",
   "execution_count": 1,
   "metadata": {},
   "outputs": [],
   "source": [
    "import os,shutil,re"
   ]
  },
  {
   "cell_type": "code",
   "execution_count": 2,
   "metadata": {},
   "outputs": [
    {
     "data": {
      "text/plain": [
       "'C:\\\\Users\\\\HP\\\\ML\\\\how_to_make_an_image_classifier-master'"
      ]
     },
     "execution_count": 2,
     "metadata": {},
     "output_type": "execute_result"
    }
   ],
   "source": [
    "%pwd"
   ]
  },
  {
   "cell_type": "code",
   "execution_count": 3,
   "metadata": {},
   "outputs": [],
   "source": [
    "os.chdir('c:/Users/HP/Desktop/')"
   ]
  },
  {
   "cell_type": "code",
   "execution_count": 5,
   "metadata": {},
   "outputs": [],
   "source": [
    "files = os.listdir()"
   ]
  },
  {
   "cell_type": "code",
   "execution_count": 13,
   "metadata": {},
   "outputs": [
    {
     "data": {
      "text/plain": [
       "['1',\n",
       " '1.py',\n",
       " '3 Essential Google Colaboratory Tips & Tricks.html',\n",
       " '3 Essential Google Colaboratory Tips & Tricks_files',\n",
       " 'cnn',\n",
       " 'code - Shortcut.lnk',\n",
       " 'DAT8-master - Shortcut.lnk',\n",
       " 'DbdC46uUQAA5SYl.jpg_large',\n",
       " 'desktop.ini',\n",
       " 'DL interview questions',\n",
       " 'enron.json',\n",
       " 'fast ai notes',\n",
       " 'furniture',\n",
       " 'ham spam',\n",
       " 'HousePrice',\n",
       " 'imdb',\n",
       " 'Lomonosov Moscow state university - YouTube.3GP',\n",
       " 'machine-learning-coursera-1-master - Shortcut.lnk',\n",
       " 'Mahanati Savitri Full Interview At All India Radio - YouTube.3GP',\n",
       " 'mnist',\n",
       " 'movie_reviews',\n",
       " 'ncs',\n",
       " 'nlp pages',\n",
       " 'Pre-processing_methods_by_me_houseprice.ipynb',\n",
       " 'scripts - Shortcut.lnk',\n",
       " 'titanic',\n",
       " 'to be printed',\n",
       " 'toxic',\n",
       " 'validation.json']"
      ]
     },
     "execution_count": 13,
     "metadata": {},
     "output_type": "execute_result"
    }
   ],
   "source": [
    "(files)"
   ]
  },
  {
   "cell_type": "code",
   "execution_count": 12,
   "metadata": {},
   "outputs": [
    {
     "name": "stdout",
     "output_type": "stream",
     "text": [
      "[[], [], [], [], [], [], ['8-'], [], [], [], [], [], [], [], [], [], [], ['1-'], [], [], [], [], [], [], [], [], [], [], []]\n"
     ]
    }
   ],
   "source": [
    "a=[]\n",
    "for i in files:\n",
    "    k = re.findall(r'\\d[-104]+',i)  \n",
    "    a.append(k)\n",
    "print(a)"
   ]
  },
  {
   "cell_type": "code",
   "execution_count": null,
   "metadata": {},
   "outputs": [],
   "source": []
  }
 ],
 "metadata": {
  "kernelspec": {
   "display_name": "Python 3",
   "language": "python",
   "name": "python3"
  },
  "language_info": {
   "codemirror_mode": {
    "name": "ipython",
    "version": 3
   },
   "file_extension": ".py",
   "mimetype": "text/x-python",
   "name": "python",
   "nbconvert_exporter": "python",
   "pygments_lexer": "ipython3",
   "version": "3.6.4"
  }
 },
 "nbformat": 4,
 "nbformat_minor": 2
}
