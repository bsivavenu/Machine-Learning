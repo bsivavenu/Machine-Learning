{
 "cells": [
  {
   "cell_type": "markdown",
   "metadata": {},
   "source": [
    "The main parameters to adjust when using these methods is **n_estimators and max_features.** The former\n",
    "is the number of trees in the forest. The larger the better. The results will stop getting significantly better beyond a critical number of trees. max_features is the size of the random subsets of features to consider when splitting a node. The lower the greater the reduction of variance, but also the greater the increase in bias. Empirical good default values are **max_features=n_features for regression problems, and max_features=sqrt(n_features) for classification tasks** (where n_features is the number of features in the data). Good results are often achieved when setting **max_depth=None in combination\n",
    "with min_samples_split=1 (i.e., when fully developing the trees).**"
   ]
  },
  {
   "cell_type": "code",
   "execution_count": 20,
   "metadata": {
    "collapsed": true
   },
   "outputs": [],
   "source": [
    "from sklearn.ensemble import RandomForestClassifier,ExtraTreesClassifier\n",
    "from sklearn.tree import DecisionTreeClassifier\n",
    "from sklearn.datasets import make_blobs\n",
    "from sklearn.model_selection import cross_val_score\n",
    "import pandas as pd\n"
   ]
  },
  {
   "cell_type": "code",
   "execution_count": 21,
   "metadata": {},
   "outputs": [
    {
     "data": {
      "text/plain": [
       "((10000, 10), (10000,))"
      ]
     },
     "execution_count": 21,
     "metadata": {},
     "output_type": "execute_result"
    }
   ],
   "source": [
    "# make_blobs()\n",
    "X,y = make_blobs(n_samples=10000,n_features=10,centers=100,random_state=0)\n",
    "X.shape,y.shape"
   ]
  },
  {
   "cell_type": "code",
   "execution_count": 22,
   "metadata": {},
   "outputs": [
    {
     "data": {
      "text/html": [
       "<div>\n",
       "<style>\n",
       "    .dataframe thead tr:only-child th {\n",
       "        text-align: right;\n",
       "    }\n",
       "\n",
       "    .dataframe thead th {\n",
       "        text-align: left;\n",
       "    }\n",
       "\n",
       "    .dataframe tbody tr th {\n",
       "        vertical-align: top;\n",
       "    }\n",
       "</style>\n",
       "<table border=\"1\" class=\"dataframe\">\n",
       "  <thead>\n",
       "    <tr style=\"text-align: right;\">\n",
       "      <th></th>\n",
       "      <th>0</th>\n",
       "      <th>1</th>\n",
       "      <th>2</th>\n",
       "      <th>3</th>\n",
       "      <th>4</th>\n",
       "      <th>5</th>\n",
       "      <th>6</th>\n",
       "      <th>7</th>\n",
       "      <th>8</th>\n",
       "      <th>9</th>\n",
       "    </tr>\n",
       "  </thead>\n",
       "  <tbody>\n",
       "    <tr>\n",
       "      <th>0</th>\n",
       "      <td>6.469076</td>\n",
       "      <td>4.250703</td>\n",
       "      <td>-8.636944</td>\n",
       "      <td>4.044785</td>\n",
       "      <td>9.017254</td>\n",
       "      <td>4.535872</td>\n",
       "      <td>-4.670276</td>\n",
       "      <td>-0.481728</td>\n",
       "      <td>-6.449961</td>\n",
       "      <td>-2.659850</td>\n",
       "    </tr>\n",
       "    <tr>\n",
       "      <th>1</th>\n",
       "      <td>6.488564</td>\n",
       "      <td>9.379570</td>\n",
       "      <td>10.327917</td>\n",
       "      <td>-1.765055</td>\n",
       "      <td>-2.068842</td>\n",
       "      <td>-9.537790</td>\n",
       "      <td>3.936380</td>\n",
       "      <td>3.375421</td>\n",
       "      <td>7.412737</td>\n",
       "      <td>-9.722844</td>\n",
       "    </tr>\n",
       "    <tr>\n",
       "      <th>2</th>\n",
       "      <td>8.373928</td>\n",
       "      <td>-10.143423</td>\n",
       "      <td>-3.527536</td>\n",
       "      <td>-7.338834</td>\n",
       "      <td>1.385557</td>\n",
       "      <td>6.961417</td>\n",
       "      <td>-4.504456</td>\n",
       "      <td>-7.315360</td>\n",
       "      <td>-2.330709</td>\n",
       "      <td>6.440872</td>\n",
       "    </tr>\n",
       "    <tr>\n",
       "      <th>3</th>\n",
       "      <td>-3.414101</td>\n",
       "      <td>-2.019790</td>\n",
       "      <td>-2.748108</td>\n",
       "      <td>4.168691</td>\n",
       "      <td>-5.788652</td>\n",
       "      <td>-7.468685</td>\n",
       "      <td>-1.719800</td>\n",
       "      <td>-5.302655</td>\n",
       "      <td>4.534099</td>\n",
       "      <td>-4.613695</td>\n",
       "    </tr>\n",
       "    <tr>\n",
       "      <th>4</th>\n",
       "      <td>-1.330023</td>\n",
       "      <td>-3.725465</td>\n",
       "      <td>9.559999</td>\n",
       "      <td>-6.751356</td>\n",
       "      <td>-7.407864</td>\n",
       "      <td>-2.131515</td>\n",
       "      <td>1.766013</td>\n",
       "      <td>2.381506</td>\n",
       "      <td>-1.886568</td>\n",
       "      <td>8.667311</td>\n",
       "    </tr>\n",
       "  </tbody>\n",
       "</table>\n",
       "</div>"
      ],
      "text/plain": [
       "          0          1          2         3         4         5         6  \\\n",
       "0  6.469076   4.250703  -8.636944  4.044785  9.017254  4.535872 -4.670276   \n",
       "1  6.488564   9.379570  10.327917 -1.765055 -2.068842 -9.537790  3.936380   \n",
       "2  8.373928 -10.143423  -3.527536 -7.338834  1.385557  6.961417 -4.504456   \n",
       "3 -3.414101  -2.019790  -2.748108  4.168691 -5.788652 -7.468685 -1.719800   \n",
       "4 -1.330023  -3.725465   9.559999 -6.751356 -7.407864 -2.131515  1.766013   \n",
       "\n",
       "          7         8         9  \n",
       "0 -0.481728 -6.449961 -2.659850  \n",
       "1  3.375421  7.412737 -9.722844  \n",
       "2 -7.315360 -2.330709  6.440872  \n",
       "3 -5.302655  4.534099 -4.613695  \n",
       "4  2.381506 -1.886568  8.667311  "
      ]
     },
     "execution_count": 22,
     "metadata": {},
     "output_type": "execute_result"
    }
   ],
   "source": [
    "df = pd.DataFrame(X)\n",
    "df.head()"
   ]
  },
  {
   "cell_type": "code",
   "execution_count": 23,
   "metadata": {},
   "outputs": [
    {
     "data": {
      "text/plain": [
       "0.97940879382055857"
      ]
     },
     "execution_count": 23,
     "metadata": {},
     "output_type": "execute_result"
    }
   ],
   "source": [
    "dt = DecisionTreeClassifier(max_depth=None,min_samples_split=2,random_state=0)\n",
    "score = cross_val_score(dt,X,y)\n",
    "score.mean()"
   ]
  },
  {
   "cell_type": "code",
   "execution_count": 24,
   "metadata": {},
   "outputs": [
    {
     "data": {
      "text/plain": [
       "0.99960784313725493"
      ]
     },
     "execution_count": 24,
     "metadata": {},
     "output_type": "execute_result"
    }
   ],
   "source": [
    "rf = RandomForestClassifier(n_estimators=10,max_depth=None,min_samples_split=2,random_state=0)\n",
    "score = cross_val_score(rf,X,y)\n",
    "score.mean()"
   ]
  },
  {
   "cell_type": "code",
   "execution_count": 25,
   "metadata": {},
   "outputs": [
    {
     "data": {
      "text/plain": [
       "0.99989898989898995"
      ]
     },
     "execution_count": 25,
     "metadata": {},
     "output_type": "execute_result"
    }
   ],
   "source": [
    "etc = ExtraTreesClassifier(n_estimators=10,max_depth=None,min_samples_split=2,random_state=0)\n",
    "score = cross_val_score(etc,X,y)\n",
    "score.mean()"
   ]
  },
  {
   "cell_type": "markdown",
   "metadata": {
    "collapsed": true
   },
   "source": [
    "incomplete\n"
   ]
  },
  {
   "cell_type": "code",
   "execution_count": null,
   "metadata": {
    "collapsed": true
   },
   "outputs": [],
   "source": []
  }
 ],
 "metadata": {
  "kernelspec": {
   "display_name": "Python 3",
   "language": "python",
   "name": "python3"
  },
  "language_info": {
   "codemirror_mode": {
    "name": "ipython",
    "version": 3
   },
   "file_extension": ".py",
   "mimetype": "text/x-python",
   "name": "python",
   "nbconvert_exporter": "python",
   "pygments_lexer": "ipython3",
   "version": "3.6.2"
  }
 },
 "nbformat": 4,
 "nbformat_minor": 2
}
