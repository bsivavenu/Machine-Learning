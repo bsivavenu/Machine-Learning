{
 "cells": [
  {
   "cell_type": "code",
   "execution_count": 3,
   "metadata": {},
   "outputs": [
    {
     "name": "stdout",
     "output_type": "stream",
     "text": [
      "Extracting c:/Users/HP/ML/DL/models//mnistdata/train-images-idx3-ubyte.gz\n",
      "Extracting c:/Users/HP/ML/DL/models//mnistdata/train-labels-idx1-ubyte.gz\n",
      "Extracting c:/Users/HP/ML/DL/models//mnistdata/t10k-images-idx3-ubyte.gz\n",
      "Extracting c:/Users/HP/ML/DL/models//mnistdata/t10k-labels-idx1-ubyte.gz\n"
     ]
    }
   ],
   "source": [
    "from __future__ import print_function\n",
    "import tensorflow as tf\n",
    "from tensorflow.examples.tutorials.mnist import input_data\n",
    "mnist = input_data.read_data_sets('c:/Users/HP/ML/DL/models//mnistdata/',one_hot = True)"
   ]
  },
  {
   "cell_type": "code",
   "execution_count": 4,
   "metadata": {},
   "outputs": [],
   "source": [
    "learning_rate = .001\n",
    "display_epoch = 1\n",
    "epochs = 25\n",
    "batch_size = 100\n",
    "logs_path = 'c:/Users/HP/jupyternotebooks/'\n"
   ]
  },
  {
   "cell_type": "code",
   "execution_count": 5,
   "metadata": {},
   "outputs": [],
   "source": [
    "#tf graph input\n",
    "x = tf.placeholder(tf.float32,[None,784])\n",
    "y = tf.placeholder(tf.float32,[None,10])"
   ]
  },
  {
   "cell_type": "code",
   "execution_count": 6,
   "metadata": {},
   "outputs": [],
   "source": [
    "#model weights and bias\n",
    "w = tf.Variable(tf.zeros([784,10]))\n",
    "b = tf.Variable(tf.zeros([10]))"
   ]
  },
  {
   "cell_type": "code",
   "execution_count": null,
   "metadata": {},
   "outputs": [],
   "source": []
  },
  {
   "cell_type": "code",
   "execution_count": 7,
   "metadata": {},
   "outputs": [],
   "source": [
    "with tf.name_scope('model'):\n",
    "    pred = tf.nn.softmax(tf.add(tf.matmul(x,w),b))\n",
    "with tf.name_scope('loss'):\n",
    "    loss = tf.reduce_mean(-tf.reduce_sum(y*tf.log(pred),reduction_indices=1))\n",
    "with tf.name_scope('SGD'):\n",
    "    optimizer = tf.train.GradientDescentOptimizer(0.001).minimize(loss)\n",
    "with tf.name_scope('accuracy'):\n",
    "    accuracy = tf.equal(tf.arg_max(pred,1),tf.arg_max(y,1))\n",
    "    accuracy = tf.reduce_mean(tf.cast(accuracy,tf.float32))\n",
    "\n",
    "init = tf.global_variables_initializer()\n",
    "\n",
    "tf.summary.scalar('loss',loss)\n",
    "tf.summary.scalar('acc',accuracy)\n",
    "merged_summary_op = tf.summary.merge_all()\n"
   ]
  },
  {
   "cell_type": "code",
   "execution_count": 8,
   "metadata": {},
   "outputs": [
    {
     "name": "stdout",
     "output_type": "stream",
     "text": [
      "Epoch: 0001 cost= 2.047011579\n",
      "Epoch: 0002 cost= 1.655734069\n",
      "Epoch: 0003 cost= 1.395393313\n",
      "Epoch: 0004 cost= 1.217936620\n",
      "Epoch: 0005 cost= 1.092022801\n",
      "Epoch: 0006 cost= 0.998944422\n",
      "Epoch: 0007 cost= 0.927574608\n",
      "Epoch: 0008 cost= 0.871145640\n",
      "Epoch: 0009 cost= 0.825386928\n",
      "Epoch: 0010 cost= 0.787469056\n",
      "Epoch: 0011 cost= 0.755498592\n",
      "Epoch: 0012 cost= 0.728134384\n",
      "Epoch: 0013 cost= 0.704405035\n",
      "Epoch: 0014 cost= 0.683632579\n",
      "Epoch: 0015 cost= 0.665248476\n",
      "Epoch: 0016 cost= 0.648859909\n",
      "Epoch: 0017 cost= 0.634136098\n",
      "Epoch: 0018 cost= 0.620822163\n",
      "Epoch: 0019 cost= 0.608720550\n",
      "Epoch: 0020 cost= 0.597655135\n",
      "Epoch: 0021 cost= 0.587497469\n",
      "Epoch: 0022 cost= 0.578129322\n",
      "Epoch: 0023 cost= 0.569469049\n",
      "Epoch: 0024 cost= 0.561413253\n",
      "Epoch: 0025 cost= 0.553912813\n",
      "Optimization Finished!\n",
      "Accuracy: 0.8786\n",
      "Run the command line:\n",
      "--> tensorboard --logdir=/tmp/tensorflow_logs \n",
      "Then open http://0.0.0.0:6006/ into your web browser\n"
     ]
    }
   ],
   "source": [
    "with tf.Session() as sess:\n",
    "    sess.run(init)\n",
    "    summary_writer = tf.summary.FileWriter(logs_path,graph=tf.get_default_graph())\n",
    "    for epoch in range((epochs)):\n",
    "        avg_cost = 0\n",
    "\n",
    "        total_batch = int(mnist.train.num_examples/batch_size)\n",
    "        for i in range(total_batch):\n",
    "            batch_xs,batch_ys = mnist.train.next_batch(batch_size)\n",
    "            _,c,summary = sess.run([optimizer,loss,merged_summary_op],feed_dict={x:batch_xs,y:batch_ys})\n",
    "            summary_writer.add_summary(summary,epoch*total_batch+i)\n",
    "            avg_cost += c / total_batch\n",
    "        if (epoch+1) % display_epoch == 0:\n",
    "            print(\"Epoch:\", '%04d' % (epoch+1), \"cost=\", \"{:.9f}\".format(avg_cost))\n",
    "    print(\"Optimization Finished!\")\n",
    "    print(\"Accuracy:\", accuracy.eval({x: mnist.test.images, y: mnist.test.labels}))\n",
    "\n",
    "    print(\"Run the command line:\\n\" \\\n",
    "          \"--> tensorboard --logdir=logs_path\" \\\n",
    "          \"\\nThen open http://0.0.0.0:6006/ into your web browser\")"
   ]
  },
  {
   "cell_type": "code",
   "execution_count": null,
   "metadata": {
    "collapsed": true
   },
   "outputs": [],
   "source": []
  }
 ],
 "metadata": {
  "kernelspec": {
   "display_name": "Python 3",
   "language": "python",
   "name": "python3"
  },
  "language_info": {
   "codemirror_mode": {
    "name": "ipython",
    "version": 3
   },
   "file_extension": ".py",
   "mimetype": "text/x-python",
   "name": "python",
   "nbconvert_exporter": "python",
   "pygments_lexer": "ipython3",
   "version": "3.6.4"
  }
 },
 "nbformat": 4,
 "nbformat_minor": 2
}
