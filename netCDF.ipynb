{
 "cells": [
  {
   "cell_type": "code",
   "execution_count": 1,
   "metadata": {},
   "outputs": [],
   "source": [
    "from netCDF4 import Dataset"
   ]
  },
  {
   "cell_type": "code",
   "execution_count": 9,
   "metadata": {},
   "outputs": [
    {
     "name": "stdout",
     "output_type": "stream",
     "text": [
      " Volume in drive C has no label.\n",
      " Volume Serial Number is D4DF-7D72\n",
      "\n",
      " Directory of C:\\Users\\win10\\ml\n",
      "\n",
      "01/09/2019  02:34 PM    <DIR>          .\n",
      "01/09/2019  02:34 PM    <DIR>          ..\n",
      "01/05/2019  12:52 PM    <DIR>          .ipynb_checkpoints\n",
      "01/04/2019  06:43 PM        30,793,837 air.departure.sig995.2012.nc\n",
      "01/04/2019  06:43 PM         7,700,344 air.sig995.2012.nc\n",
      "01/04/2019  06:43 PM            30,744 darwin_2012.nc\n",
      "01/09/2019  02:34 PM             1,684 Untitled.ipynb\n",
      "               4 File(s)     38,526,609 bytes\n",
      "               3 Dir(s)  82,791,026,688 bytes free\n"
     ]
    }
   ],
   "source": [
    "ls"
   ]
  },
  {
   "cell_type": "code",
   "execution_count": 10,
   "metadata": {},
   "outputs": [],
   "source": [
    "dataset = Dataset('darwin_2012.nc')"
   ]
  },
  {
   "cell_type": "code",
   "execution_count": 11,
   "metadata": {},
   "outputs": [
    {
     "data": {
      "text/plain": [
       "'NETCDF4'"
      ]
     },
     "execution_count": 11,
     "metadata": {},
     "output_type": "execute_result"
    }
   ],
   "source": [
    "dataset.file_format"
   ]
  },
  {
   "cell_type": "code",
   "execution_count": 13,
   "metadata": {},
   "outputs": [
    {
     "data": {
      "text/plain": [
       "odict_keys(['time'])"
      ]
     },
     "execution_count": 13,
     "metadata": {},
     "output_type": "execute_result"
    }
   ],
   "source": [
    "dataset.dimensions.keys()"
   ]
  },
  {
   "cell_type": "code",
   "execution_count": 14,
   "metadata": {},
   "outputs": [
    {
     "data": {
      "text/plain": [
       "<class 'netCDF4._netCDF4.Dimension'> (unlimited): name = 'time', size = 366"
      ]
     },
     "execution_count": 14,
     "metadata": {},
     "output_type": "execute_result"
    }
   ],
   "source": [
    " dataset.dimensions['time']"
   ]
  },
  {
   "cell_type": "code",
   "execution_count": 15,
   "metadata": {},
   "outputs": [
    {
     "data": {
      "text/plain": [
       "odict_keys(['time', 'air'])"
      ]
     },
     "execution_count": 15,
     "metadata": {},
     "output_type": "execute_result"
    }
   ],
   "source": [
    "dataset.variables.keys()"
   ]
  },
  {
   "cell_type": "code",
   "execution_count": 16,
   "metadata": {},
   "outputs": [
    {
     "data": {
      "text/plain": [
       "<class 'netCDF4._netCDF4.Variable'>\n",
       "float64 air(time)\n",
       "    units: degK\n",
       "    long_name: mean Daily Air temperature\n",
       "    var_desc: Air temperature\n",
       "    statistic: Mean\n",
       "M\n",
       "    level_desc: Surface\n",
       "unlimited dimensions: time\n",
       "current shape = (366,)\n",
       "filling on, default _FillValue of 9.969209968386869e+36 used"
      ]
     },
     "execution_count": 16,
     "metadata": {},
     "output_type": "execute_result"
    }
   ],
   "source": [
    "dataset.variables['air']"
   ]
  },
  {
   "cell_type": "code",
   "execution_count": 18,
   "metadata": {},
   "outputs": [
    {
     "name": "stdout",
     "output_type": "stream",
     "text": [
      "description = NCEP/NCAR Reanalysis air temperature from its value at Darwin, Australia. Data is from NMC initialized reanalysis\n",
      "(4x/day).  These are the 0.9950 sigma level values.\n"
     ]
    }
   ],
   "source": [
    "for attr in dataset.ncattrs():\n",
    "    print( attr, '=', getattr(dataset, attr))"
   ]
  },
  {
   "cell_type": "code",
   "execution_count": 20,
   "metadata": {},
   "outputs": [
    {
     "name": "stdout",
     "output_type": "stream",
     "text": [
      "NCEP/NCAR Reanalysis air temperature from its value at Darwin, Australia. Data is from NMC initialized reanalysis\n",
      "(4x/day).  These are the 0.9950 sigma level values.\n"
     ]
    }
   ],
   "source": [
    "for attr in dataset.ncattrs():\n",
    "    print(getattr(dataset, attr))"
   ]
  },
  {
   "cell_type": "code",
   "execution_count": 33,
   "metadata": {},
   "outputs": [],
   "source": [
    "air = dataset.variables['air']\n",
    "time = dataset.variables['time']"
   ]
  },
  {
   "cell_type": "code",
   "execution_count": 34,
   "metadata": {},
   "outputs": [],
   "source": [
    "time = time[:]"
   ]
  },
  {
   "cell_type": "code",
   "execution_count": 36,
   "metadata": {},
   "outputs": [
    {
     "data": {
      "text/plain": [
       "<bound method MaskedArray.unshare_mask of masked_array(data=[17628096., 17628120., 17628144., 17628168., 17628192.,\n",
       "                   17628216., 17628240., 17628264., 17628288., 17628312.,\n",
       "                   17628336., 17628360., 17628384., 17628408., 17628432.,\n",
       "                   17628456., 17628480., 17628504., 17628528., 17628552.,\n",
       "                   17628576., 17628600., 17628624., 17628648., 17628672.,\n",
       "                   17628696., 17628720., 17628744., 17628768., 17628792.,\n",
       "                   17628816., 17628840., 17628864., 17628888., 17628912.,\n",
       "                   17628936., 17628960., 17628984., 17629008., 17629032.,\n",
       "                   17629056., 17629080., 17629104., 17629128., 17629152.,\n",
       "                   17629176., 17629200., 17629224., 17629248., 17629272.,\n",
       "                   17629296., 17629320., 17629344., 17629368., 17629392.,\n",
       "                   17629416., 17629440., 17629464., 17629488., 17629512.,\n",
       "                   17629536., 17629560., 17629584., 17629608., 17629632.,\n",
       "                   17629656., 17629680., 17629704., 17629728., 17629752.,\n",
       "                   17629776., 17629800., 17629824., 17629848., 17629872.,\n",
       "                   17629896., 17629920., 17629944., 17629968., 17629992.,\n",
       "                   17630016., 17630040., 17630064., 17630088., 17630112.,\n",
       "                   17630136., 17630160., 17630184., 17630208., 17630232.,\n",
       "                   17630256., 17630280., 17630304., 17630328., 17630352.,\n",
       "                   17630376., 17630400., 17630424., 17630448., 17630472.,\n",
       "                   17630496., 17630520., 17630544., 17630568., 17630592.,\n",
       "                   17630616., 17630640., 17630664., 17630688., 17630712.,\n",
       "                   17630736., 17630760., 17630784., 17630808., 17630832.,\n",
       "                   17630856., 17630880., 17630904., 17630928., 17630952.,\n",
       "                   17630976., 17631000., 17631024., 17631048., 17631072.,\n",
       "                   17631096., 17631120., 17631144., 17631168., 17631192.,\n",
       "                   17631216., 17631240., 17631264., 17631288., 17631312.,\n",
       "                   17631336., 17631360., 17631384., 17631408., 17631432.,\n",
       "                   17631456., 17631480., 17631504., 17631528., 17631552.,\n",
       "                   17631576., 17631600., 17631624., 17631648., 17631672.,\n",
       "                   17631696., 17631720., 17631744., 17631768., 17631792.,\n",
       "                   17631816., 17631840., 17631864., 17631888., 17631912.,\n",
       "                   17631936., 17631960., 17631984., 17632008., 17632032.,\n",
       "                   17632056., 17632080., 17632104., 17632128., 17632152.,\n",
       "                   17632176., 17632200., 17632224., 17632248., 17632272.,\n",
       "                   17632296., 17632320., 17632344., 17632368., 17632392.,\n",
       "                   17632416., 17632440., 17632464., 17632488., 17632512.,\n",
       "                   17632536., 17632560., 17632584., 17632608., 17632632.,\n",
       "                   17632656., 17632680., 17632704., 17632728., 17632752.,\n",
       "                   17632776., 17632800., 17632824., 17632848., 17632872.,\n",
       "                   17632896., 17632920., 17632944., 17632968., 17632992.,\n",
       "                   17633016., 17633040., 17633064., 17633088., 17633112.,\n",
       "                   17633136., 17633160., 17633184., 17633208., 17633232.,\n",
       "                   17633256., 17633280., 17633304., 17633328., 17633352.,\n",
       "                   17633376., 17633400., 17633424., 17633448., 17633472.,\n",
       "                   17633496., 17633520., 17633544., 17633568., 17633592.,\n",
       "                   17633616., 17633640., 17633664., 17633688., 17633712.,\n",
       "                   17633736., 17633760., 17633784., 17633808., 17633832.,\n",
       "                   17633856., 17633880., 17633904., 17633928., 17633952.,\n",
       "                   17633976., 17634000., 17634024., 17634048., 17634072.,\n",
       "                   17634096., 17634120., 17634144., 17634168., 17634192.,\n",
       "                   17634216., 17634240., 17634264., 17634288., 17634312.,\n",
       "                   17634336., 17634360., 17634384., 17634408., 17634432.,\n",
       "                   17634456., 17634480., 17634504., 17634528., 17634552.,\n",
       "                   17634576., 17634600., 17634624., 17634648., 17634672.,\n",
       "                   17634696., 17634720., 17634744., 17634768., 17634792.,\n",
       "                   17634816., 17634840., 17634864., 17634888., 17634912.,\n",
       "                   17634936., 17634960., 17634984., 17635008., 17635032.,\n",
       "                   17635056., 17635080., 17635104., 17635128., 17635152.,\n",
       "                   17635176., 17635200., 17635224., 17635248., 17635272.,\n",
       "                   17635296., 17635320., 17635344., 17635368., 17635392.,\n",
       "                   17635416., 17635440., 17635464., 17635488., 17635512.,\n",
       "                   17635536., 17635560., 17635584., 17635608., 17635632.,\n",
       "                   17635656., 17635680., 17635704., 17635728., 17635752.,\n",
       "                   17635776., 17635800., 17635824., 17635848., 17635872.,\n",
       "                   17635896., 17635920., 17635944., 17635968., 17635992.,\n",
       "                   17636016., 17636040., 17636064., 17636088., 17636112.,\n",
       "                   17636136., 17636160., 17636184., 17636208., 17636232.,\n",
       "                   17636256., 17636280., 17636304., 17636328., 17636352.,\n",
       "                   17636376., 17636400., 17636424., 17636448., 17636472.,\n",
       "                   17636496., 17636520., 17636544., 17636568., 17636592.,\n",
       "                   17636616., 17636640., 17636664., 17636688., 17636712.,\n",
       "                   17636736., 17636760., 17636784., 17636808., 17636832.,\n",
       "                   17636856.],\n",
       "             mask=False,\n",
       "       fill_value=1e+20)>"
      ]
     },
     "execution_count": 36,
     "metadata": {},
     "output_type": "execute_result"
    }
   ],
   "source": [
    "time.unshare_mask"
   ]
  },
  {
   "cell_type": "code",
   "execution_count": 37,
   "metadata": {},
   "outputs": [],
   "source": [
    "from netCDF4 import num2date, date2num, date2index\n"
   ]
  },
  {
   "cell_type": "code",
   "execution_count": null,
   "metadata": {},
   "outputs": [],
   "source": []
  }
 ],
 "metadata": {
  "kernelspec": {
   "display_name": "Python 3",
   "language": "python",
   "name": "python3"
  },
  "language_info": {
   "codemirror_mode": {
    "name": "ipython",
    "version": 3
   },
   "file_extension": ".py",
   "mimetype": "text/x-python",
   "name": "python",
   "nbconvert_exporter": "python",
   "pygments_lexer": "ipython3",
   "version": "3.7.1"
  }
 },
 "nbformat": 4,
 "nbformat_minor": 2
}
