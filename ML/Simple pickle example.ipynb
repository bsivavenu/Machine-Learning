{
 "cells": [
  {
   "cell_type": "code",
   "execution_count": 2,
   "metadata": {
    "collapsed": true
   },
   "outputs": [],
   "source": [
    "import pickle\n",
    "import numpy as np"
   ]
  },
  {
   "cell_type": "code",
   "execution_count": 3,
   "metadata": {
    "collapsed": true
   },
   "outputs": [],
   "source": [
    "data_dict = {'volts': np.random.random(10),'watts':np.random.random(10)}"
   ]
  },
  {
   "cell_type": "code",
   "execution_count": 4,
   "metadata": {
    "collapsed": true
   },
   "outputs": [],
   "source": [
    "with open('pickle_example.pkl','wb') as pfile:\n",
    "    pickle.dump(data_dict,pfile)"
   ]
  },
  {
   "cell_type": "code",
   "execution_count": 5,
   "metadata": {},
   "outputs": [
    {
     "data": {
      "text/plain": [
       "{'volts': array([ 0.63676646,  0.39259458,  0.45833317,  0.33565353,  0.695251  ,\n",
       "         0.73691674,  0.2378007 ,  0.36500095,  0.06636614,  0.2845606 ]),\n",
       " 'watts': array([ 0.33943671,  0.35580481,  0.71627905,  0.78753213,  0.95066029,\n",
       "         0.43489622,  0.17356172,  0.64949103,  0.74311503,  0.09385349])}"
      ]
     },
     "execution_count": 5,
     "metadata": {},
     "output_type": "execute_result"
    }
   ],
   "source": [
    "with open('pickle_example.pkl','rb') as ppfile:\n",
    "    new_data = pickle.load(ppfile)\n",
    "new_data    "
   ]
  }
 ],
 "metadata": {
  "kernelspec": {
   "display_name": "Python 3",
   "language": "python",
   "name": "python3"
  },
  "language_info": {
   "codemirror_mode": {
    "name": "ipython",
    "version": 3
   },
   "file_extension": ".py",
   "mimetype": "text/x-python",
   "name": "python",
   "nbconvert_exporter": "python",
   "pygments_lexer": "ipython3",
   "version": "3.6.3"
  }
 },
 "nbformat": 4,
 "nbformat_minor": 2
}
