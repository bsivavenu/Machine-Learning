{
 "cells": [
  {
   "cell_type": "code",
   "execution_count": 15,
   "metadata": {
    "collapsed": true
   },
   "outputs": [],
   "source": [
    "import pandas as pd\n"
   ]
  },
  {
   "cell_type": "code",
   "execution_count": 16,
   "metadata": {
    "collapsed": true
   },
   "outputs": [],
   "source": [
    "data = pd.read_csv('c:/Users/HP/Desktop/hitler.txt',delimiter='\\n')\n"
   ]
  },
  {
   "cell_type": "code",
   "execution_count": 17,
   "metadata": {
    "collapsed": true
   },
   "outputs": [
    {
     "data": {
      "text/plain": [
       "'Adolf Hitler\\n\\n\\n                          1. THE BEGINNING\\n     At half past six on the evening of April 20th, 1889 a child was born in the\\nsmall town of Branau, Austria.  The name of the child was Adolf Hitler.  He was\\nthe son a Customs official Alois Hitler, and his third wife Klara.\\n     As a young boy Adolf attendated church regulary and sang in the local choir.\\n One day he carved a symbol into the bench which resembled the Swastika he later\\nused as the symbol of the Nazi party.  He was a pretty good student.  He\\nreceived good marks in most of his classes.  However in his last year of school\\nhe failed German and Mathematics, and only succeeded in Gym and Drawing.  He\\ndrooped out of school at the age of 16, spending a total of 10 years in school.\\nFrom childhood one it was his dream to become an artist or architect.  He was\\nnot a bad artist, as his surviving paintings and drawings show but he never\\nshowed any originality or creative imagination.  To fullfil his dream he had\\nmoved to Vienna the capital of Austria where the Academy of arts was located.\\nHe failed the first time he tried to get admission and in the next year, 1907 he\\ntried again and was very sure of success.  To his surprise he failed again.  In\\nfact the Dean of the academy was not very impressed with his performance, and\\ngave him a really hard time and said to him \"You will never be painter.\"  The\\nrejection really crushed him as he now reached a dead end.  He could not apply\\nto the school of architecture as he had no high-school diploma.  During the next\\n35 years of his live the young man never forgot the rejection he received in the\\ndean\\'s office that day.       Many Historians like to speculate what would have\\nhappened IF.... perhaps the small town boy would have had a bit more\\ntalent....or IF the Dean had been a little less critical, the world might have\\nbeen spared the nightmare into which this boy was eventually to plunge it.\\n\\n                         2. WORLD WAR I\\n     While living in Vienna Hitler he made his living by drawing small pictures\\nof famous landmarks which he sold as post cards. But he was always poor.  He was\\nalso a regular reader of a small paper which claimed that the Araban race was\\nsuperior to all and was destined to rule the world.  The paper blamed Communists\\nand Jews for all their problems and hitler agreed to those views. Hitler agree\\nwith most of the points made in the publication.  He continued to live a poor\\nlive in Vienna and in 1913 decided to move to Munich.  Still living in Vienna\\nand being Austrain by birth, Hitler showed more loyalty to the Geramny.  He\\nthought that the Aryan race was destined to rule the world.  Many believe that\\nhe tried to escape the draft but it was never proven.  His live in Munich was\\nnot much better then before and he continued to be poor.  Then in 1914 World War\\nI broke out and Hitler saw this as a great opportunity to show his loyalty to\\nthe \"fatherland\" by volunteering for the Imperial army.  He did not want to\\nfight in the Austrian Army.  Hitler was a good soldier. Many of political\\nopponents claimed that he was a coward but records clearly show that he was not.\\nHe received to awards of bravery but never achieved a high Rank.\\n     In 1918 Germany surrendered and Hitler was very upset about the loss.  He\\nbelieved that it was the Jews and the Communists who betrayed the \"fatherland\"\\nand it was here that his disliking of the Jews most likely began.  Germany after\\nthe war was in chaos.  With no real Government to control the country, many\\ngroups tried to take control.  One day a big communist group staged a big riot\\nbut another group of ex-soldiers including Hitler managed to hold them back.\\n\\n                         3. THE NAZI PARTY\\n     Since there were not many chances for employment Hitler stayed in the army.\\nHitler was assigned the job of going go to various meetings of groups which\\nsprang up like mushrooms and to report on them.  One day September 12, 1919 - a\\nfateful day in history, Hitler was sent to investigate a small group which\\ncalled itself the \"German Workers Party\".  Hitler was not to happy about his\\nassignment.  He thought it wouldn\\'t be worth it to even go.  At the group mainly\\ntalked about the Countries problem and how the Jews, communists and others where\\nthreatening the master race and offered their own solutions.   Hitler was bored\\nby the meeting but when a man stood up and claimed that Bavaria should separate\\nfrom Germany, Hitler got up and argued that point.  He argued that Germany and\\ngermans must unite into one to survive.  His natural ability to speak imprest\\nthe leader of the group and at the end of the meeting he gave Hitler a pamphlet\\nand an initiation the next meeting.  He wasn\\'t interested in attending but after\\nreading the hand out he accepted.  He later joined the German Workers Party and\\nwas in charge of Propaganda.  The party was small at first but Hitler\\'s great\\nskill at deliberating speeches attracted more and more listeners and it soon\\nbecame a major party with many followers. Eventually Adolf Hitler became it\\'s\\nleader and the rest as they say....is history.\\n\\n                       4. HITLER IN POWER\\n     While spending time in prison for trying to overthrow the government Adolf\\nHitler wrote his famous book \"Mein Kampf\", in which he describes many problems\\nand where he states that the Jews and communists were responsible for those\\nproblems.  He also decided on the \"Final Solution\" to the \"Jewish Question\".  It\\nwas his goal to eliminate the Jewish race from the European continent.     It is\\ninteresting to look and see how a small time boy from Austria with no education,\\nmoney or political background could become within a few years the leader of big\\nnation such as Germany.  Historians believe that Hitler saw a great opportunity\\nto get his views across to the German people who have lost all hope.  Of course\\npeople did not start to support him right away. After he came into power, the\\nNazi party took control over every aspect of every day life.  Hitler ordered the\\ncreation of a special police force to make sure that all opponents would be\\nelimanted, the Gestapo.  He also gave orders to set up a special force which\\nwould be used to transport and take care of all political prisioners and people\\nthought to be inferior.  The name of the force was the feared SS.  Mass\\npropaganda was used to persuade the German people that the \"Fuhrer\" would make\\nthe country strong and powerful again.  They also used propaganda against the\\nJews and other minority groups which were considered enemies.  Teachers had to\\nbelong to the Nazi party, and children were taught that Jews very the source of\\nall their problems. Since the country was in chaos after the war, and was forced\\nto pay billions in damages, The Germans saw hope in Adolf Hitler. In the late\\n20\\'s the depression hit which made the situation even worse.\\n     Hitler in his speeches blamed the Jews and Communists for their misfortunes\\nand many listed.  Unemployment was very high at that time standing at about 25%.\\nHitler also spoke out against the unfairness of the Versailles treaty.  Germany\\nlost a lot of its territory.  The Empire was no more.  He believed the pure\\nAraban race is destined to rule the world and wanted to build an Empire that\\nwould last a 1000 years.  He preached that all Germans must unite in order for\\nthis goal to succeed.\\n     Hitler publicly stated his views on the Jews.  But the Jews of Germany\\ndidn\\'t see Hitler as a great threat at first.  However when Hitler became\\nchancellor and eventually took over totally they changed their mind.  The first\\nthing he did was to take the Jews their right to vote.  Soon they were not\\nallowed to marry with a pure german, they could not hold positions such as\\nteachers, doctors lawyers,..and so on.  Many Jews only then realized that he was\\nserious and many fled Germany.  Why did so many Germans follow Hitler?  When he\\ntook power the economy was basically non existent.  Many looked for answers and\\nhope. Hitler was their answer.  He promised to rebuild the Glorious Germany of\\nthe past.  First he started to build up the Wehrmacht. Germany was not allowed\\nto have more than 100,000 men, but Hitler broke the treaty and gave orders to\\nincrease that number. Factories started putting out weapons and people now had\\njobs. To the Germans this was a very good sign.  Mass rallies were held, where\\nHitler continued to use his powers of speech on the German people.\\n\\n                        5. THE ROAD TO WAR\\n     At first the allies did nothing about the fact that Hitler broke the Treaty.\\nHe gave speeches in which he indicated that the German people needed living\\nspace.  Later he Marched into the Reihnland, and area which Germany lost.  Next\\nHe moved into Austria, his home country and annexed it without a shoot being\\nfired into the Reich.  Following Austria, he wanted control of the Sudetenland,\\na part of Czechoslovakia which was mainly German speaking.  He also achieved\\nthat goal.  The allies didn\\'t want another war so they led Hitler do what he\\nwanted to, but when he Attacked Poland on September 1st, 1939 the allies no\\nlonger stood by and watched.  Britain and France declared war on Germany a few\\ndays after later, World War II began.\\n\\n                         6. THE DARK SIDE\\n     After the Wehrmacht conquered and occupied a territory the SS quickly\\nfollowed.  They would round up Jews, Communists, Gypsies, Homosexuals and others\\nwhich were viewed as \"Inferior\" according to Nazi racial theory and enemies of\\nthe German people and put on trains.  They were all sent to Concentration camps,\\nwhich were set up to implement the \\'final solution\\'.  Camps such as Auschwitz,\\nTreblinka, Bergen Belsen were all equipped with gas chambers to make the killing\\nprocess quick and efectfull.  In those camps 6 million Jews and many others were\\nkilled by the Nazis.  Hitler\\'s army seemed unstoppable but in the end, the\\nallies managed to win many decisive battles.  Eventually on Aril 30th, 1945\\nHitler committed suicide in his bunker by shooting himself in the mouth.  His\\nbody was burned, but no ones knows what happened to the \"Fuhrer\\'s\" ashes.  On\\nMay 7th, 1945 Germany surrendered unconditionally.\\n\\n                            7. THE MAN\\n     Hitler was one of the most, if not the most cruel man to ever walk the face\\nof the earth.  His believe of the superiorority of the \"Aryan\" race made him\\nhate all others.  He believed that the slaws to the east should be made work for\\nthe German people.  He thought of blacks as being \"Sub-human\".  And Most of all\\nhe hated the Jews.  So much that in early 1945, when equipment and manpower was\\nbadly needed on the front Hitler insisited on man and equipment staying and\\ncontinuing to tranport Jews to the camps.  In his Testament he left his money to\\nhis family.  And message to the Germany people \"Above all I charge the leaders\\nof the nation and those under them to scrupulous observance of the laws of race\\nand to merciless opposition to the universal poisoner of all peoples,\\ninternational Jewry.\"\\n     The only people which would be spared where the Scandinavians to the north,\\nsince they were closely related to the German race.  With Hitler\\'s death the\\nNazi party quickly fated.  But there is still a lot of tension in todays Germany.'"
      ]
     },
     "execution_count": 17,
     "metadata": {},
     "output_type": "execute_result"
    }
   ],
   "source": [
    "data = open('c:/Users/HP/Desktop/hitler.txt').read()\n",
    "data"
   ]
  },
  {
   "cell_type": "code",
   "execution_count": 18,
   "metadata": {
    "collapsed": true
   },
   "outputs": [],
   "source": [
    "import nltk"
   ]
  },
  {
   "cell_type": "code",
   "execution_count": 19,
   "metadata": {
    "collapsed": true
   },
   "outputs": [],
   "source": [
    "from nltk.corpus import stopwords \n",
    "from nltk.stem.wordnet import WordNetLemmatizer\n",
    "import string\n",
    "stop = set(stopwords.words('english'))\n",
    "exclude = set(string.punctuation) \n",
    "lemma = WordNetLemmatizer()\n",
    "def clean(doc):\n",
    "    stop_free = \" \".join([i for i in doc.lower().split() if i not in stop])\n",
    "    punc_free = ''.join(ch for ch in stop_free if ch not in exclude)\n",
    "    normalized = \" \".join(lemma.lemmatize(word) for word in punc_free.split())\n",
    "    return normalized\n",
    "\n",
    "doc_clean = [clean(data).split()]        "
   ]
  },
  {
   "cell_type": "code",
   "execution_count": 20,
   "metadata": {},
   "outputs": [
    {
     "name": "stdout",
     "output_type": "stream",
     "text": [
      "[['adolf', 'hitler', '1', 'beginning', 'half', 'past', 'six', 'evening', 'april', '20th', '1889', 'child', 'born', 'small', 'town', 'branau', 'austria', 'name', 'child', 'adolf', 'hitler', 'son', 'custom', 'official', 'alois', 'hitler', 'third', 'wife', 'klara', 'young', 'boy', 'adolf', 'attendated', 'church', 'regulary', 'sang', 'local', 'choir', 'one', 'day', 'carved', 'symbol', 'bench', 'resembled', 'swastika', 'later', 'used', 'symbol', 'nazi', 'party', 'pretty', 'good', 'student', 'received', 'good', 'mark', 'class', 'however', 'last', 'year', 'school', 'failed', 'german', 'mathematics', 'succeeded', 'gym', 'drawing', 'drooped', 'school', 'age', '16', 'spending', 'total', '10', 'year', 'school', 'childhood', 'one', 'dream', 'become', 'artist', 'architect', 'bad', 'artist', 'surviving', 'painting', 'drawing', 'show', 'never', 'showed', 'originality', 'creative', 'imagination', 'fullfil', 'dream', 'moved', 'vienna', 'capital', 'austria', 'academy', 'art', 'located', 'failed', 'first', 'time', 'tried', 'get', 'admission', 'next', 'year', '1907', 'tried', 'sure', 'success', 'surprise', 'failed', 'again', 'fact', 'dean', 'academy', 'impressed', 'performance', 'gave', 'really', 'hard', 'time', 'said', 'you', 'never', 'painter', 'rejection', 'really', 'crushed', 'reached', 'dead', 'end', 'could', 'apply', 'school', 'architecture', 'highschool', 'diploma', 'next', '35', 'year', 'live', 'young', 'man', 'never', 'forgot', 'rejection', 'received', 'dean', 'office', 'day', 'many', 'historian', 'like', 'speculate', 'would', 'happened', 'if', 'perhaps', 'small', 'town', 'boy', 'would', 'bit', 'talentor', 'dean', 'little', 'le', 'critical', 'world', 'might', 'spared', 'nightmare', 'boy', 'eventually', 'plunge', 'it', '2', 'world', 'war', 'living', 'vienna', 'hitler', 'made', 'living', 'drawing', 'small', 'picture', 'famous', 'landmark', 'sold', 'post', 'card', 'always', 'poor', 'also', 'regular', 'reader', 'small', 'paper', 'claimed', 'araban', 'race', 'superior', 'destined', 'rule', 'world', 'paper', 'blamed', 'communist', 'jew', 'problem', 'hitler', 'agreed', 'view', 'hitler', 'agree', 'point', 'made', 'publication', 'continued', 'live', 'poor', 'live', 'vienna', '1913', 'decided', 'move', 'munich', 'still', 'living', 'vienna', 'austrain', 'birth', 'hitler', 'showed', 'loyalty', 'geramny', 'thought', 'aryan', 'race', 'destined', 'rule', 'world', 'many', 'believe', 'tried', 'escape', 'draft', 'never', 'proven', 'live', 'munich', 'much', 'better', 'continued', 'poor', '1914', 'world', 'war', 'broke', 'hitler', 'saw', 'great', 'opportunity', 'show', 'loyalty', 'fatherland', 'volunteering', 'imperial', 'army', 'want', 'fight', 'austrian', 'army', 'hitler', 'good', 'soldier', 'many', 'political', 'opponent', 'claimed', 'coward', 'record', 'clearly', 'show', 'not', 'received', 'award', 'bravery', 'never', 'achieved', 'high', 'rank', '1918', 'germany', 'surrendered', 'hitler', 'upset', 'loss', 'believed', 'jew', 'communist', 'betrayed', 'fatherland', 'disliking', 'jew', 'likely', 'began', 'germany', 'war', 'chaos', 'real', 'government', 'control', 'country', 'many', 'group', 'tried', 'take', 'control', 'one', 'day', 'big', 'communist', 'group', 'staged', 'big', 'riot', 'another', 'group', 'exsoldiers', 'including', 'hitler', 'managed', 'hold', 'back', '3', 'nazi', 'party', 'since', 'many', 'chance', 'employment', 'hitler', 'stayed', 'army', 'hitler', 'assigned', 'job', 'going', 'go', 'various', 'meeting', 'group', 'sprang', 'like', 'mushroom', 'report', 'them', 'one', 'day', 'september', '12', '1919', 'fateful', 'day', 'history', 'hitler', 'sent', 'investigate', 'small', 'group', 'called', 'german', 'worker', 'party', 'hitler', 'happy', 'assignment', 'thought', 'wouldnt', 'worth', 'even', 'go', 'group', 'mainly', 'talked', 'country', 'problem', 'jew', 'communist', 'others', 'threatening', 'master', 'race', 'offered', 'solution', 'hitler', 'bored', 'meeting', 'man', 'stood', 'claimed', 'bavaria', 'separate', 'germany', 'hitler', 'got', 'argued', 'point', 'argued', 'germany', 'german', 'must', 'unite', 'one', 'survive', 'natural', 'ability', 'speak', 'imprest', 'leader', 'group', 'end', 'meeting', 'gave', 'hitler', 'pamphlet', 'initiation', 'next', 'meeting', 'wasnt', 'interested', 'attending', 'reading', 'hand', 'accepted', 'later', 'joined', 'german', 'worker', 'party', 'charge', 'propaganda', 'party', 'small', 'first', 'hitler', 'great', 'skill', 'deliberating', 'speech', 'attracted', 'listener', 'soon', 'became', 'major', 'party', 'many', 'follower', 'eventually', 'adolf', 'hitler', 'became', 'it', 'leader', 'rest', 'sayis', 'history', '4', 'hitler', 'power', 'spending', 'time', 'prison', 'trying', 'overthrow', 'government', 'adolf', 'hitler', 'wrote', 'famous', 'book', 'mein', 'kampf', 'describes', 'many', 'problem', 'state', 'jew', 'communist', 'responsible', 'problem', 'also', 'decided', 'final', 'solution', 'jewish', 'question', 'goal', 'eliminate', 'jewish', 'race', 'european', 'continent', 'interesting', 'look', 'see', 'small', 'time', 'boy', 'austria', 'education', 'money', 'political', 'background', 'could', 'become', 'within', 'year', 'leader', 'big', 'nation', 'germany', 'historian', 'believe', 'hitler', 'saw', 'great', 'opportunity', 'get', 'view', 'across', 'german', 'people', 'lost', 'hope', 'course', 'people', 'start', 'support', 'right', 'away', 'came', 'power', 'nazi', 'party', 'took', 'control', 'every', 'aspect', 'every', 'day', 'life', 'hitler', 'ordered', 'creation', 'special', 'police', 'force', 'make', 'sure', 'opponent', 'would', 'elimanted', 'gestapo', 'also', 'gave', 'order', 'set', 'special', 'force', 'would', 'used', 'transport', 'take', 'care', 'political', 'prisioners', 'people', 'thought', 'inferior', 'name', 'force', 'feared', 's', 'mass', 'propaganda', 'used', 'persuade', 'german', 'people', 'fuhrer', 'would', 'make', 'country', 'strong', 'powerful', 'again', 'also', 'used', 'propaganda', 'jew', 'minority', 'group', 'considered', 'enemy', 'teacher', 'belong', 'nazi', 'party', 'child', 'taught', 'jew', 'source', 'problem', 'since', 'country', 'chaos', 'war', 'forced', 'pay', 'billion', 'damage', 'german', 'saw', 'hope', 'adolf', 'hitler', 'late', '20', 'depression', 'hit', 'made', 'situation', 'even', 'worse', 'hitler', 'speech', 'blamed', 'jew', 'communist', 'misfortune', 'many', 'listed', 'unemployment', 'high', 'time', 'standing', '25', 'hitler', 'also', 'spoke', 'unfairness', 'versailles', 'treaty', 'germany', 'lost', 'lot', 'territory', 'empire', 'more', 'believed', 'pure', 'araban', 'race', 'destined', 'rule', 'world', 'wanted', 'build', 'empire', 'would', 'last', '1000', 'year', 'preached', 'german', 'must', 'unite', 'order', 'goal', 'succeed', 'hitler', 'publicly', 'stated', 'view', 'jew', 'jew', 'germany', 'didnt', 'see', 'hitler', 'great', 'threat', 'first', 'however', 'hitler', 'became', 'chancellor', 'eventually', 'took', 'totally', 'changed', 'mind', 'first', 'thing', 'take', 'jew', 'right', 'vote', 'soon', 'allowed', 'marry', 'pure', 'german', 'could', 'hold', 'position', 'teacher', 'doctor', 'lawyersand', 'on', 'many', 'jew', 'realized', 'serious', 'many', 'fled', 'germany', 'many', 'german', 'follow', 'hitler', 'took', 'power', 'economy', 'basically', 'non', 'existent', 'many', 'looked', 'answer', 'hope', 'hitler', 'answer', 'promised', 'rebuild', 'glorious', 'germany', 'past', 'first', 'started', 'build', 'wehrmacht', 'germany', 'allowed', '100000', 'men', 'hitler', 'broke', 'treaty', 'gave', 'order', 'increase', 'number', 'factory', 'started', 'putting', 'weapon', 'people', 'job', 'german', 'good', 'sign', 'mass', 'rally', 'held', 'hitler', 'continued', 'use', 'power', 'speech', 'german', 'people', '5', 'road', 'war', 'first', 'ally', 'nothing', 'fact', 'hitler', 'broke', 'treaty', 'gave', 'speech', 'indicated', 'german', 'people', 'needed', 'living', 'space', 'later', 'marched', 'reihnland', 'area', 'germany', 'lost', 'next', 'moved', 'austria', 'home', 'country', 'annexed', 'without', 'shoot', 'fired', 'reich', 'following', 'austria', 'wanted', 'control', 'sudetenland', 'part', 'czechoslovakia', 'mainly', 'german', 'speaking', 'also', 'achieved', 'goal', 'ally', 'didnt', 'want', 'another', 'war', 'led', 'hitler', 'wanted', 'to', 'attacked', 'poland', 'september', '1st', '1939', 'ally', 'longer', 'stood', 'watched', 'britain', 'france', 'declared', 'war', 'germany', 'day', 'later', 'world', 'war', 'ii', 'began', '6', 'dark', 'side', 'wehrmacht', 'conquered', 'occupied', 'territory', 's', 'quickly', 'followed', 'would', 'round', 'jew', 'communist', 'gypsy', 'homosexual', 'others', 'viewed', 'inferior', 'according', 'nazi', 'racial', 'theory', 'enemy', 'german', 'people', 'put', 'train', 'sent', 'concentration', 'camp', 'set', 'implement', 'final', 'solution', 'camp', 'auschwitz', 'treblinka', 'bergen', 'belsen', 'equipped', 'gas', 'chamber', 'make', 'killing', 'process', 'quick', 'efectfull', 'camp', '6', 'million', 'jew', 'many', 'others', 'killed', 'nazi', 'hitler', 'army', 'seemed', 'unstoppable', 'end', 'ally', 'managed', 'win', 'many', 'decisive', 'battle', 'eventually', 'aril', '30th', '1945', 'hitler', 'committed', 'suicide', 'bunker', 'shooting', 'mouth', 'body', 'burned', 'one', 'know', 'happened', 'fuhrers', 'ash', 'may', '7th', '1945', 'germany', 'surrendered', 'unconditionally', '7', 'man', 'hitler', 'one', 'most', 'cruel', 'man', 'ever', 'walk', 'face', 'earth', 'believe', 'superiorority', 'aryan', 'race', 'made', 'hate', 'others', 'believed', 'slaw', 'east', 'made', 'work', 'german', 'people', 'thought', 'black', 'subhuman', 'hated', 'jew', 'much', 'early', '1945', 'equipment', 'manpower', 'badly', 'needed', 'front', 'hitler', 'insisited', 'man', 'equipment', 'staying', 'continuing', 'tranport', 'jew', 'camp', 'testament', 'left', 'money', 'family', 'message', 'germany', 'people', 'above', 'charge', 'leader', 'nation', 'scrupulous', 'observance', 'law', 'race', 'merciless', 'opposition', 'universal', 'poisoner', 'people', 'international', 'jewry', 'people', 'would', 'spared', 'scandinavian', 'north', 'since', 'closely', 'related', 'german', 'race', 'hitler', 'death', 'nazi', 'party', 'quickly', 'fated', 'still', 'lot', 'tension', 'today', 'germany']]\n"
     ]
    }
   ],
   "source": [
    "print(doc_clean)"
   ]
  },
  {
   "cell_type": "code",
   "execution_count": 21,
   "metadata": {},
   "outputs": [],
   "source": [
    "# Importing Gensim\n",
    "import gensim\n",
    "from gensim import corpora\n",
    "\n",
    "# Creating the term dictionary of our courpus, where every unique term is assigned an index. \n",
    "dictionary = corpora.Dictionary(doc_clean)\n",
    "\n",
    "# Converting list of documents (corpus) into Document Term Matrix using dictionary prepared above.\n",
    "doc_term_matrix = [dictionary.doc2bow(doc) for doc in doc_clean]\n"
   ]
  },
  {
   "cell_type": "code",
   "execution_count": 22,
   "metadata": {},
   "outputs": [
    {
     "name": "stdout",
     "output_type": "stream",
     "text": [
      "[[(0, 6), (1, 41), (2, 1), (3, 1), (4, 1), (5, 2), (6, 1), (7, 1), (8, 1), (9, 1), (10, 1), (11, 3), (12, 1), (13, 7), (14, 2), (15, 1), (16, 5), (17, 2), (18, 1), (19, 1), (20, 1), (21, 1), (22, 1), (23, 1), (24, 1), (25, 2), (26, 4), (27, 1), (28, 1), (29, 1), (30, 1), (31, 1), (32, 1), (33, 7), (34, 7), (35, 1), (36, 2), (37, 1), (38, 1), (39, 1), (40, 4), (41, 4), (42, 7), (43, 9), (44, 1), (45, 4), (46, 1), (47, 3), (48, 1), (49, 1), (50, 2), (51, 2), (52, 6), (53, 4), (54, 3), (55, 17), (56, 1), (57, 1), (58, 1), (59, 3), (60, 1), (61, 1), (62, 1), (63, 2), (64, 1), (65, 1), (66, 1), (67, 2), (68, 2), (69, 2), (70, 1), (71, 1), (72, 1), (73, 1), (74, 3), (75, 5), (76, 2), (77, 1), (78, 1), (79, 1), (80, 1), (81, 2), (82, 4), (83, 1), (84, 2), (85, 1), (86, 1), (87, 6), (88, 5), (89, 4), (90, 2), (91, 1), (92, 4), (93, 1), (94, 2), (95, 1), (96, 1), (97, 2), (98, 2), (99, 3), (100, 1), (101, 1), (102, 5), (103, 2), (104, 1), (105, 1), (106, 1), (107, 1), (108, 2), (109, 1), (110, 1), (111, 1), (112, 3), (113, 3), (114, 1), (115, 1), (116, 1), (117, 1), (118, 1), (119, 4), (120, 5), (121, 1), (122, 1), (123, 14), (124, 2), (125, 2), (126, 1), (127, 8), (128, 2), (129, 1), (130, 1), (131, 1), (132, 1), (133, 1), (134, 1), (135, 1), (136, 7), (137, 1), (138, 2), (139, 1), (140, 4), (141, 1), (142, 2), (143, 1), (144, 8), (145, 4), (146, 5), (147, 1), (148, 2), (149, 1), (150, 1), (151, 1), (152, 1), (153, 1), (154, 3), (155, 6), (156, 1), (157, 1), (158, 2), (159, 3), (160, 2), (161, 8), (162, 1), (163, 3), (164, 3), (165, 2), (166, 7), (167, 16), (168, 5), (169, 1), (170, 3), (171, 1), (172, 2), (173, 1), (174, 3), (175, 1), (176, 2), (177, 1), (178, 2), (179, 2), (180, 1), (181, 1), (182, 2), (183, 1), (184, 4), (185, 2), (186, 3), (187, 1), (188, 1), (189, 1), (190, 2), (191, 1), (192, 1), (193, 3), (194, 3), (195, 4), (196, 2), (197, 2), (198, 1), (199, 1), (200, 4), (201, 2), (202, 1), (203, 1), (204, 1), (205, 3), (206, 2), (207, 1), (208, 1), (209, 1), (210, 1), (211, 1), (212, 1), (213, 2), (214, 2), (215, 1), (216, 1), (217, 15), (218, 2), (219, 1), (220, 1), (221, 3), (222, 1), (223, 1), (224, 1), (225, 2), (226, 2), (227, 1), (228, 2), (229, 4), (230, 5), (231, 8), (232, 3), (233, 3), (234, 1), (235, 1), (236, 2), (237, 1), (238, 1), (239, 2), (240, 2), (241, 1), (242, 1), (243, 3), (244, 1), (245, 1), (246, 1), (247, 1), (248, 2), (249, 1), (250, 2), (251, 1), (252, 4), (253, 1), (254, 1), (255, 1), (256, 1), (257, 2), (258, 1), (259, 1), (260, 1), (261, 2), (262, 2), (263, 1), (264, 1), (265, 2), (266, 1), (267, 1), (268, 1), (269, 1), (270, 2), (271, 2), (272, 1), (273, 4), (274, 1), (275, 1), (276, 1), (277, 3), (278, 1), (279, 2), (280, 1), (281, 1), (282, 1), (283, 2), (284, 2), (285, 2), (286, 1), (287, 1), (288, 1), (289, 1), (290, 1), (291, 4), (292, 1), (293, 1), (294, 1), (295, 1), (296, 1), (297, 1), (298, 1), (299, 1), (300, 1), (301, 2), (302, 3), (303, 1), (304, 1), (305, 4), (306, 1), (307, 1), (308, 2), (309, 3), (310, 1), (311, 1), (312, 1), (313, 1), (314, 1), (315, 4), (316, 1), (317, 1), (318, 1), (319, 1), (320, 1), (321, 1), (322, 1), (323, 1), (324, 1), (325, 1), (326, 2), (327, 2), (328, 1), (329, 3), (330, 1), (331, 1), (332, 1), (333, 1), (334, 1), (335, 2), (336, 1), (337, 2), (338, 1), (339, 1), (340, 2), (341, 1), (342, 12), (343, 3), (344, 3), (345, 1), (346, 1), (347, 1), (348, 2), (349, 1), (350, 1), (351, 3), (352, 2), (353, 1), (354, 1), (355, 1), (356, 1), (357, 2), (358, 1), (359, 3), (360, 3), (361, 1), (362, 1), (363, 3), (364, 2), (365, 1), (366, 1), (367, 1), (368, 2), (369, 1), (370, 2), (371, 2), (372, 1), (373, 1), (374, 1), (375, 1), (376, 1), (377, 1), (378, 2), (379, 2), (380, 1), (381, 1), (382, 1), (383, 1), (384, 1), (385, 1), (386, 1), (387, 1), (388, 1), (389, 1), (390, 1), (391, 1), (392, 1), (393, 1), (394, 1), (395, 1), (396, 1), (397, 1), (398, 1), (399, 1), (400, 1), (401, 3), (402, 2), (403, 2), (404, 2), (405, 1), (406, 2), (407, 3), (408, 2), (409, 1), (410, 1), (411, 1), (412, 1), (413, 1), (414, 2), (415, 1), (416, 1), (417, 1), (418, 1), (419, 1), (420, 1), (421, 1), (422, 2), (423, 1), (424, 1), (425, 1), (426, 1), (427, 1), (428, 1), (429, 1), (430, 1), (431, 1), (432, 1), (433, 1), (434, 1), (435, 1), (436, 1), (437, 2), (438, 1), (439, 1), (440, 1), (441, 2), (442, 2), (443, 1), (444, 1), (445, 1), (446, 1), (447, 1), (448, 1), (449, 1), (450, 1), (451, 1), (452, 1), (453, 1), (454, 1), (455, 1), (456, 4), (457, 1), (458, 1), (459, 2), (460, 1), (461, 1), (462, 1), (463, 1), (464, 1), (465, 1), (466, 1), (467, 1), (468, 1), (469, 1), (470, 1), (471, 1), (472, 1), (473, 1), (474, 1), (475, 1), (476, 1), (477, 1), (478, 1), (479, 1), (480, 1), (481, 1), (482, 1), (483, 1), (484, 1), (485, 1), (486, 1), (487, 2), (488, 1), (489, 1), (490, 1), (491, 1), (492, 2), (493, 1), (494, 1), (495, 1), (496, 1), (497, 1), (498, 1), (499, 1), (500, 1), (501, 1), (502, 1), (503, 1), (504, 4), (505, 1), (506, 1), (507, 1), (508, 1), (509, 1), (510, 1), (511, 1), (512, 1), (513, 1), (514, 1), (515, 1), (516, 1), (517, 1), (518, 1), (519, 1), (520, 1), (521, 1), (522, 1), (523, 1), (524, 1), (525, 1), (526, 3), (527, 1), (528, 1), (529, 1), (530, 1), (531, 1), (532, 1), (533, 1), (534, 1), (535, 1), (536, 1), (537, 1), (538, 1), (539, 1), (540, 1), (541, 1), (542, 1), (543, 1), (544, 1), (545, 1), (546, 1), (547, 1), (548, 1), (549, 1), (550, 1), (551, 1), (552, 1), (553, 1), (554, 1), (555, 1), (556, 2), (557, 1), (558, 1), (559, 1), (560, 1), (561, 1), (562, 1), (563, 1), (564, 1), (565, 1), (566, 1), (567, 1), (568, 1), (569, 1), (570, 1), (571, 1), (572, 1), (573, 1), (574, 1), (575, 1), (576, 1), (577, 1), (578, 1), (579, 1), (580, 1), (581, 1), (582, 1), (583, 1), (584, 1), (585, 1)]]\n"
     ]
    }
   ],
   "source": [
    "print(doc_term_matrix)"
   ]
  },
  {
   "cell_type": "code",
   "execution_count": 23,
   "metadata": {
    "collapsed": true
   },
   "outputs": [],
   "source": [
    "# Creating the object for LDA model using gensim library\n",
    "Lda = gensim.models.ldamodel.LdaModel\n",
    "\n",
    "# Running and Trainign LDA model on the document term matrix.\n",
    "ldamodel = Lda(doc_term_matrix, num_topics=10, id2word = dictionary, passes=50)"
   ]
  },
  {
   "cell_type": "code",
   "execution_count": 24,
   "metadata": {},
   "outputs": [
    {
     "data": {
      "text/plain": [
       "[(0, '0.002*\"hitler\" + 0.002*\"jew\" + 0.002*\"german\"'),\n",
       " (1, '0.002*\"hitler\" + 0.002*\"german\" + 0.002*\"jew\"'),\n",
       " (2, '0.002*\"hitler\" + 0.002*\"jew\" + 0.002*\"german\"'),\n",
       " (3, '0.002*\"hitler\" + 0.002*\"jew\" + 0.002*\"german\"'),\n",
       " (4, '0.002*\"hitler\" + 0.002*\"german\" + 0.002*\"germany\"'),\n",
       " (5, '0.002*\"hitler\" + 0.002*\"jew\" + 0.002*\"german\"'),\n",
       " (6, '0.002*\"hitler\" + 0.002*\"germany\" + 0.002*\"german\"'),\n",
       " (7, '0.002*\"hitler\" + 0.002*\"german\" + 0.002*\"germany\"'),\n",
       " (8, '0.002*\"hitler\" + 0.002*\"many\" + 0.002*\"german\"'),\n",
       " (9, '0.037*\"hitler\" + 0.015*\"german\" + 0.015*\"jew\"')]"
      ]
     },
     "execution_count": 24,
     "metadata": {},
     "output_type": "execute_result"
    }
   ],
   "source": [
    "ldamodel.print_topics(num_topics=10, num_words=3)"
   ]
  },
  {
   "cell_type": "code",
   "execution_count": null,
   "metadata": {
    "collapsed": true
   },
   "outputs": [],
   "source": []
  }
 ],
 "metadata": {
  "kernelspec": {
   "display_name": "Python 3",
   "language": "python",
   "name": "python3"
  },
  "language_info": {
   "codemirror_mode": {
    "name": "ipython",
    "version": 3
   },
   "file_extension": ".py",
   "mimetype": "text/x-python",
   "name": "python",
   "nbconvert_exporter": "python",
   "pygments_lexer": "ipython3",
   "version": "3.6.2"
  }
 },
 "nbformat": 4,
 "nbformat_minor": 2
}
